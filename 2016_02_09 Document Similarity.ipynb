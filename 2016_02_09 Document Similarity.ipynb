{
 "cells": [
  {
   "cell_type": "code",
   "execution_count": 11,
   "metadata": {
    "collapsed": false
   },
   "outputs": [],
   "source": [
    "from sklearn.feature_extraction.text import CountVectorizer\n",
    "from sklearn.feature_extraction import DictVectorizer\n",
    "import numpy as np\n",
    "from sklearn.feature_extraction.text import TfidfVectorizer\n",
    "from scipy.spatial.distance import cosine\n",
    "from scipy.spatial.distance import pdist\n",
    "import matplotlib.pyplot as plt\n",
    "import seaborn as sns\n",
    "from scipy.stats import scoreatpercentile\n",
    "%matplotlib inline"
   ]
  },
  {
   "cell_type": "code",
   "execution_count": 4,
   "metadata": {
    "collapsed": false
   },
   "outputs": [],
   "source": [
    "#ToDo\n",
    "# bhattacharrya distance (imp myself)"
   ]
  },
  {
   "cell_type": "code",
   "execution_count": 42,
   "metadata": {
    "collapsed": false
   },
   "outputs": [
    {
     "data": {
      "text/plain": [
       "(array([ 1.,  0.,  0.,  0.,  0.,  0.,  2.,  0.,  0.,  3.]),\n",
       " array([ 0.        ,  0.09357781,  0.18715561,  0.28073342,  0.37431123,\n",
       "         0.46788903,  0.56146684,  0.65504465,  0.74862245,  0.84220026,\n",
       "         0.93577807]),\n",
       " <a list of 10 Patch objects>)"
      ]
     },
     "execution_count": 42,
     "metadata": {},
     "output_type": "execute_result"
    },
    {
     "data": {
      "image/png": "[encoded data removed]",
      "text/plain": [
       "<matplotlib.figure.Figure at 0x112b36350>"
      ]
     },
     "metadata": {},
     "output_type": "display_data"
    }
   ],
   "source": [
    "# Sample Data\n",
    "\n",
    "corpus = [\n",
    "    'This is the first document.',\n",
    "    'This is the second second document.',\n",
    "    'And the third one.',\n",
    "    'Is this the first document?',    \n",
    "]\n",
    "\n",
    "# featurize\n",
    "vectorizer = TfidfVectorizer(min_df=1)\n",
    "results = vectorizer.fit_transform(corpus).toarray()\n",
    "# vectorizer.get_feature_names()\n",
    "\n",
    "# calculate distances (lower distances are better btw)\n",
    "# cosine(results[0], results[1])\n",
    "distances = pdist(results, 'cosine')\n",
    "plt.hist(distances)"
   ]
  },
  {
   "cell_type": "code",
   "execution_count": 41,
   "metadata": {
    "collapsed": false
   },
   "outputs": [
    {
     "name": "stdout",
     "output_type": "stream",
     "text": [
      "Cutoff: 0.14\n"
     ]
    },
    {
     "data": {
      "text/plain": [
       "[(0, 3)]"
      ]
     },
     "execution_count": 41,
     "metadata": {},
     "output_type": "execute_result"
    }
   ],
   "source": [
    "def _make_index_pairs(n):\n",
    "    indexes = []\n",
    "    for i in range(0, n):\n",
    "        for j in range(i+1, n):\n",
    "            indexes.append((i,j))\n",
    "    return indexes\n",
    "\n",
    "def get_distance_cutoff(percentile):\n",
    "    return scoreatpercentile(distances, percentile)\n",
    "\n",
    "def get_similar_docs():\n",
    "    cutoff = get_distance_cutoff(5)\n",
    "    print \"Cutoff: {:.2f}\".format(cutoff)\n",
    "    \n",
    "    indexes = _make_index_pairs(len(corpus))\n",
    "    similar_docs = [index for distance, index in zip(distances, indexes)\n",
    "                          if distance < cutoff]\n",
    "    return similar_docs\n",
    "\n",
    "get_similar_docs()"
   ]
  },
  {
   "cell_type": "code",
   "execution_count": 34,
   "metadata": {
    "collapsed": false
   },
   "outputs": [
    {
     "data": {
      "text/plain": [
       "[1, 1, 1, 1, 2, 2, 2, 3, 3, 4]"
      ]
     },
     "execution_count": 34,
     "metadata": {},
     "output_type": "execute_result"
    }
   ],
   "source": [
    "# just because I can\n",
    "def make_indexes(i, n):\n",
    "    if n == 1:\n",
    "        return [i]\n",
    "    else:\n",
    "        return [i] * n + make_indexes(i+1, n-1)\n",
    "    \n",
    "make_indexes(1, 4)"
   ]
  },
  {
   "cell_type": "code",
   "execution_count": null,
   "metadata": {
    "collapsed": true
   },
   "outputs": [],
   "source": [
    "# conclusion"
   ]
  },
  {
   "cell_type": "code",
   "execution_count": null,
   "metadata": {
    "collapsed": true
   },
   "outputs": [],
   "source": [
    "\n",
    "# plug in \"real\" data\n",
    "# and other questions (still a lot to do!)"
   ]
  }
 ],
 "metadata": {
  "kernelspec": {
   "display_name": "Python 2",
   "language": "python",
   "name": "python2"
  },
  "language_info": {
   "codemirror_mode": {
    "name": "ipython",
    "version": 2
   },
   "file_extension": ".py",
   "mimetype": "text/x-python",
   "name": "python",
   "nbconvert_exporter": "python",
   "pygments_lexer": "ipython2",
   "version": "2.7.11"
  }
 },
 "nbformat": 4,
 "nbformat_minor": 0
}
