{
 "cells": [
  {
   "cell_type": "markdown",
   "metadata": {},
   "source": [
    "## Task\n",
    "Develop a system for plagarism detection, where when given a set of textual documents, detect which documents contain significant overlapping content. It is up to you to define what \"significant\" and \"overlapping\" mean. \n",
    "\n",
    "## Methodology\n",
    "\n",
    "I chose to define overlapping content as the overlapping of relatively unique words within a corpus. Significant overlap was chosen to be a degree of overlap that is seen only within 5% of the population.\n",
    "\n",
    "#### Collection\n",
    "I grabbed a small sample of papers from arxiv.org as suggested and extracted the text using PDFMiner.\n",
    "\n",
    "#### Featurization\n",
    "I represented each document as a bag of words (i.e., a dictionary of word counts) and transformed these counts to tf-idf, which weights term frequency by their relative uniqueness to a corpus (and in turn, serves as a better fingerprint of a document). \n",
    "\n",
    "#### Distance metric\n",
    "I chose cosine similarity to measure the \"distance\" between two documents. There are many other distance metrics available, but this is a good start. It normalizes for document length and is easy to understand.\n",
    "\n",
    "#### Algorithm\n",
    "I then computed all\\* pairwise distances between every document, printed a histogram of these values as a sanity check, and then computed the 5% threshold. I then return all document pairs that lie within this threshold.\n",
    "\n",
    "\\* This is an O(n^2) computation that can be ameliorated with some suggestions below.  \n",
    "\n",
    "#### Testing\n",
    "I inserted two test documents into the corpus that were created by sampling from two documents and checked to see if they were identified. \n",
    "\n",
    "## Questions\n",
    "* How would you assess the performance of your system?\n",
    "\n",
    "I would create a test set of labeled documents, and compute the following metrics:\n",
    "\n",
    "Total Accuracy: How many pairs did the system label correctly\n",
    "\n",
    "True Positives (Precision): How accurate were the system's positive labels (aka True Positive)\n",
    "\n",
    "False Positives: How many pairs did the system incorrectly label as being plagiarized\n",
    "\n",
    "True Negatives: How accurate were the system's negative labels\n",
    "\n",
    "False Negatives: How many pairs did the system incorrectly label as being unrelated\n",
    "\n",
    "Recall: How many plagiarized pairs did the system identify out of the total positive population\n",
    "\n",
    "* How could malicious authors potentially fool your system?\n",
    "\n",
    "Stemming should take care of most word conjugations. Malicious actors could replace a large portion of their document with synonyms, insert suble typos to key phrases, and use a different encoding scheme. They could poison the system with very identical documents, thus pushing the 5% tolerance away from the documents they are actually trying to get accepted in the system. \n",
    "\n",
    "* Is your system scalable w.r.t. number of documents / users? \n",
    "If not, how would you address the scalability (in terms of algorithms, infrastructure, or both)?\n",
    "\n",
    "The initial pairwise distance computation would not scale w.r.t. documents. I would ameliorate this by using a k-means algorithm on a large corpus, and doing initial comparisons of new documents on the k-sized set of centroids, and then do comparisons with documents only associated with that cluster. This could be scaled up to a n-level tree of centroids, if necessary. \n",
    "\n",
    "A large enough corpus could not be held completely in memory. At this point, vectorizing the corpus with the bag of words model would require creating a corpus dictionary, and then partitioning the words amongst separate machines, calculating the sub vectors and distances in pieces, then re-assembling them all for a final score.  "
   ]
  },
  {
   "cell_type": "code",
   "execution_count": 1,
   "metadata": {
    "collapsed": false
   },
   "outputs": [],
   "source": [
    "import codecs\n",
    "import random\n",
    "\n",
    "import matplotlib.pyplot as plt\n",
    "import numpy as np\n",
    "import seaborn as sns\n",
    "from scipy.spatial.distance import cosine\n",
    "from scipy.spatial.distance import pdist\n",
    "from scipy.stats import scoreatpercentile\n",
    "from sklearn.feature_extraction.text import CountVectorizer\n",
    "from sklearn.feature_extraction import DictVectorizer\n",
    "from sklearn.feature_extraction.text import TfidfVectorizer\n",
    "\n",
    "%matplotlib inline"
   ]
  },
  {
   "cell_type": "code",
   "execution_count": 2,
   "metadata": {
    "collapsed": false
   },
   "outputs": [],
   "source": [
    "filenames = [\n",
    "    'papers/1602.02154.txt',\n",
    "    'papers/1602.02155.txt',\n",
    "    'papers/1602.02160.txt',\n",
    "    'papers/1602.02161.txt',\n",
    "    'papers/1602.02167.txt',\n",
    "    'papers/1602.02183.txt',\n",
    "    'papers/1602.02188.txt',\n",
    "    'papers/1602.02189.txt',\n",
    "    'papers/1602.02213.txt',\n",
    "    'papers/1602.02217.txt',\n",
    "]\n",
    "\n",
    "def make_corpus(filenames):\n",
    "    corpus = []    \n",
    "    for i in filenames:\n",
    "        with codecs.open(i, 'r', 'utf-8') as f:\n",
    "            corpus.append(f.read())    \n",
    "    return corpus\n",
    "\n",
    "def insert_test_documents(corpus, filenames):\n",
    "    \"\"\"\n",
    "    Insert two documents into the corpus that should be identified as plagiarism\n",
    "    \"\"\"\n",
    "    random.seed(\"yewno\")\n",
    "    \n",
    "    doc1 = corpus[0].split()\n",
    "    doc2 = corpus[1].split()\n",
    "    copy1 = \" \".join(random.sample(doc1, len(doc1) / 2) + random.sample(doc2, len(doc2) / 2))\n",
    "    copy2 = \" \".join(random.sample(doc1, len(doc1) / 2) + random.sample(doc2, len(doc2) / 2))\n",
    "    corpus.extend([copy1, copy2])\n",
    "    filenames.extend(['copy1', 'copy2'])\n",
    "    return corpus, filenames\n",
    "\n",
    "def _make_index_pairs(n):\n",
    "    indexes = []\n",
    "    for i in range(0, n):\n",
    "        for j in range(i+1, n):\n",
    "            indexes.append((i,j))\n",
    "    return indexes\n",
    "\n",
    "def get_distance_cutoff(percentile):\n",
    "    return scoreatpercentile(distances, percentile)\n",
    "\n",
    "def get_similar_docs():\n",
    "    cutoff = get_distance_cutoff(5)\n",
    "    print \"Cutoff: {:.2f}\".format(cutoff)\n",
    "    \n",
    "    indexes = _make_index_pairs(len(corpus))\n",
    "    similar_docs = [index for distance, index in zip(distances, indexes)\n",
    "                          if distance < cutoff]\n",
    "    return similar_docs"
   ]
  },
  {
   "cell_type": "code",
   "execution_count": 3,
   "metadata": {
    "collapsed": false
   },
   "outputs": [
    {
     "data": {
      "text/plain": [
       "(array([  3.,   2.,   0.,   8.,  11.,  10.,  10.,  14.,   5.,   3.]),\n",
       " array([ 0.01002143,  0.06251348,  0.11500553,  0.16749758,  0.21998963,\n",
       "         0.27248168,  0.32497373,  0.37746578,  0.42995783,  0.48244988,\n",
       "         0.53494193]),\n",
       " <a list of 10 Patch objects>)"
      ]
     },
     "execution_count": 3,
     "metadata": {},
     "output_type": "execute_result"
    },
    {
     "data": {
      "image/png": "[encoded data removed]",
      "text/plain": [
       "<matplotlib.figure.Figure at 0x10f792890>"
      ]
     },
     "metadata": {},
     "output_type": "display_data"
    }
   ],
   "source": [
    "# Get data\n",
    "corpus = make_corpus(filenames)\n",
    "corpus, filenames = insert_test_documents(corpus, filenames)\n",
    "\n",
    "# featurize\n",
    "vectorizer = TfidfVectorizer(min_df=1)\n",
    "results = vectorizer.fit_transform(corpus).toarray()\n",
    "\n",
    "# calculate distances \n",
    "distances = pdist(results, 'cosine')\n",
    "plt.hist(distances)"
   ]
  },
  {
   "cell_type": "code",
   "execution_count": 4,
   "metadata": {
    "collapsed": false
   },
   "outputs": [
    {
     "name": "stdout",
     "output_type": "stream",
     "text": [
      "Cutoff: 0.09\n",
      "papers/1602.02154.txt and copy1 look similar\n",
      "papers/1602.02154.txt and copy2 look similar\n",
      "papers/1602.02155.txt and copy2 look similar\n",
      "copy1 and copy2 look similar\n"
     ]
    }
   ],
   "source": [
    "# Get similar documents and pretty print them\n",
    "indexes = get_similar_docs()\n",
    "for i in indexes:\n",
    "    first_file = filenames[i[0]]\n",
    "    second_file = filenames[i[1]]\n",
    "    print \"{} and {} look similar\".format(first_file, second_file)"
   ]
  },
  {
   "cell_type": "markdown",
   "metadata": {},
   "source": [
    "## Evaluation\n",
    "\n",
    "Assuming that the documents I chose do not have significant overlapping content, but that copy1 and copy2 do, the following document pairs should be identified as likely containing plagiarism:\n",
    "\n",
    "papers/1602.02154.txt, copy1\n",
    "\n",
    "papers/1602.02154.txt, copy2\n",
    "\n",
    "papers/1602.02155.txt, copy1\n",
    "\n",
    "papers/1602.02155.txt, copy2\n",
    "\n",
    "copy1, copy2"
   ]
  },
  {
   "cell_type": "code",
   "execution_count": 6,
   "metadata": {
    "collapsed": false
   },
   "outputs": [
    {
     "name": "stdout",
     "output_type": "stream",
     "text": [
      "Metrics\n",
      "-------\n",
      "Accuracy: 98.72%\n",
      "True Positives (Precision): 100.00%\n",
      "False Positives: 0.00%\n",
      "True Negatives: 98.65%\n",
      "False Negatives: 1.35%\n",
      "Recall: 80.00%\n"
     ]
    }
   ],
   "source": [
    "# Evaluate the performance of the system on the test data and the 5% threshold\n",
    "n = len(corpus)\n",
    "total_pairs = n * (n+1) / 2.0 \n",
    "\n",
    "print \"Metrics\"\n",
    "print \"-------\"\n",
    "print \"Accuracy: {:.2f}%\".format((total_pairs - 1) / total_pairs * 100)\n",
    "print \"True Positives (Precision): {:.2f}%\".format(4.0 / 4.0 * 100)\n",
    "print \"False Positives: {:.2f}%\".format(0.0 / 4.0 * 100)\n",
    "print \"True Negatives: {:.2f}%\".format(73.0 / 74.0 * 100)\n",
    "print \"False Negatives: {:.2f}%\".format(1.0 / 74.0 * 100)\n",
    "print \"Recall: {:.2f}%\".format(4.0 / 5.0 * 100)"
   ]
  },
  {
   "cell_type": "code",
   "execution_count": null,
   "metadata": {
    "collapsed": true
   },
   "outputs": [],
   "source": []
  }
 ],
 "metadata": {
  "kernelspec": {
   "display_name": "Python 2",
   "language": "python",
   "name": "python2"
  },
  "language_info": {
   "codemirror_mode": {
    "name": "ipython",
    "version": 2
   },
   "file_extension": ".py",
   "mimetype": "text/x-python",
   "name": "python",
   "nbconvert_exporter": "python",
   "pygments_lexer": "ipython2",
   "version": "2.7.11"
  }
 },
 "nbformat": 4,
 "nbformat_minor": 0
}
