{
 "cells": [
  {
   "cell_type": "markdown",
   "metadata": {},
   "source": [
    "# Task\n",
    "Predict which users will purchase the product, given the actions they've taken"
   ]
  },
  {
   "cell_type": "code",
   "execution_count": 65,
   "metadata": {
    "collapsed": true
   },
   "outputs": [],
   "source": [
    "import matplotlib.pyplot as plt\n",
    "import numpy as np\n",
    "import seaborn as sns\n",
    "import pandas as pd\n",
    "from sklearn.linear_model import LogisticRegression\n",
    "import numpy as np\n",
    "from sklearn.metrics import classification_report\n",
    "\n",
    "%matplotlib inline"
   ]
  },
  {
   "cell_type": "code",
   "execution_count": 185,
   "metadata": {
    "collapsed": false
   },
   "outputs": [],
   "source": [
    "def make_training_data():\n",
    "    train = pd.read_table('train.tsv', sep='\\t', names=['user_id', 'activity_date', 'activity_type'])\n",
    "    dummies = pd.get_dummies(train['activity_type'])\n",
    "    expanded = pd.concat([train, dummies], axis=1)\n",
    "    stats = expanded.groupby('user_id', as_index=False).agg({'EmailClickthrough': 'sum',\n",
    "                                     'EmailOpen': 'sum',\n",
    "                                     'FormSubmit': 'sum',\n",
    "                                     'PageView': 'sum',\n",
    "                                     'WebVisit':'sum',\n",
    "                                     'Purchase': 'sum'})\n",
    "\n",
    "    # Flatten\n",
    "    stats['Purchase'] = stats['Purchase'].apply(lambda x: 1 if x > 0 else 0)\n",
    "    stats['PageView'] = stats['PageView'].apply(lambda x: 1 if x > 0 else 0)\n",
    "    stats['EmailClickthrough'] = stats['EmailClickthrough'].apply(lambda x: 1 if x > 0 else 0)\n",
    "    stats['FormSubmit'] = stats['FormSubmit'].apply(lambda x: 1 if x > 0 else 0)\n",
    "    stats['EmailOpen'] = stats['EmailOpen'].apply(lambda x: 1 if x > 0 else 0)\n",
    "    stats['WebVisit'] = stats['WebVisit'].apply(lambda x: 1 if x > 0 else 0)\n",
    "\n",
    "    # Many of these users have no activity but have a purchase\n",
    "    # And they don't exist in the test data\n",
    "    # Clean them out!\n",
    "    stats['Activity'] = stats['PageView'] + stats['EmailClickthrough'] + stats['FormSubmit'] + stats['EmailOpen'] + stats['WebVisit']\n",
    "    idx = stats['Activity'] > 0\n",
    "    stats = stats.loc[idx, :].reset_index()\n",
    "    return stats"
   ]
  },
  {
   "cell_type": "code",
   "execution_count": 186,
   "metadata": {
    "collapsed": false
   },
   "outputs": [
    {
     "name": "stdout",
     "output_type": "stream",
     "text": [
      "Intercept:  [-1.4871469]\n",
      "Coefficients: \n",
      "[[ 1.08734587  0.71867778  0.38169149  0.95174482 -0.27105164]]\n",
      "             precision    recall  f1-score   support\n",
      "\n",
      "          0       0.91      0.74      0.82    237577\n",
      "          1       0.27      0.57      0.37     40646\n",
      "\n",
      "avg / total       0.82      0.72      0.75    278223\n",
      "\n"
     ]
    }
   ],
   "source": [
    "# Logistic Regression across entire training set\n",
    "X = stats[['PageView', 'EmailClickthrough', 'FormSubmit', 'EmailOpen', 'WebVisit']]\n",
    "Y = stats['Purchase']\n",
    "\n",
    "model = LogisticRegression(class_weight='balanced')\n",
    "model.fit(X, Y)\n",
    "stats['Prediction'] = model.predict(X)\n",
    "\n",
    "print 'Intercept: ', model.intercept_\n",
    "print 'Coefficients: \\n', model.coef_\n",
    "print classification_report(stats['Purchase'], stats['Prediction'])"
   ]
  },
  {
   "cell_type": "code",
   "execution_count": 187,
   "metadata": {
    "collapsed": false
   },
   "outputs": [
    {
     "name": "stdout",
     "output_type": "stream",
     "text": [
      "             precision    recall  f1-score   support\n",
      "\n",
      "          0       0.91      0.73      0.81     23758\n",
      "          1       0.27      0.59      0.37      4065\n",
      "\n",
      "avg / total       0.82      0.71      0.75     27823\n",
      "\n",
      "             precision    recall  f1-score   support\n",
      "\n",
      "          0       0.91      0.73      0.81     23758\n",
      "          1       0.27      0.58      0.37      4065\n",
      "\n",
      "avg / total       0.82      0.71      0.75     27823\n",
      "\n",
      "             precision    recall  f1-score   support\n",
      "\n",
      "          0       0.91      0.74      0.81     23758\n",
      "          1       0.27      0.56      0.36      4065\n",
      "\n",
      "avg / total       0.81      0.71      0.75     27823\n",
      "\n",
      "             precision    recall  f1-score   support\n",
      "\n",
      "          0       0.91      0.74      0.82     23758\n",
      "          1       0.27      0.58      0.37      4065\n",
      "\n",
      "avg / total       0.82      0.71      0.75     27823\n",
      "\n",
      "             precision    recall  f1-score   support\n",
      "\n",
      "          0       0.91      0.74      0.82     23758\n",
      "          1       0.28      0.58      0.37      4065\n",
      "\n",
      "avg / total       0.82      0.72      0.75     27823\n",
      "\n",
      "             precision    recall  f1-score   support\n",
      "\n",
      "          0       0.91      0.75      0.82     23758\n",
      "          1       0.28      0.57      0.37      4065\n",
      "\n",
      "avg / total       0.82      0.72      0.76     27823\n",
      "\n",
      "             precision    recall  f1-score   support\n",
      "\n",
      "          0       0.91      0.75      0.82     23758\n",
      "          1       0.28      0.56      0.37      4064\n",
      "\n",
      "avg / total       0.82      0.72      0.75     27822\n",
      "\n",
      "             precision    recall  f1-score   support\n",
      "\n",
      "          0       0.91      0.75      0.82     23757\n",
      "          1       0.28      0.56      0.37      4064\n",
      "\n",
      "avg / total       0.82      0.72      0.76     27821\n",
      "\n",
      "             precision    recall  f1-score   support\n",
      "\n",
      "          0       0.91      0.75      0.82     23757\n",
      "          1       0.28      0.56      0.37      4064\n",
      "\n",
      "avg / total       0.82      0.72      0.76     27821\n",
      "\n",
      "             precision    recall  f1-score   support\n",
      "\n",
      "          0       0.91      0.75      0.82     23757\n",
      "          1       0.27      0.54      0.36      4064\n",
      "\n",
      "avg / total       0.81      0.72      0.75     27821\n",
      "\n"
     ]
    }
   ],
   "source": [
    "# Logistic Regression with KFold cross-validation\n",
    "skf = StratifiedKFold(stats['Purchase'], 10)\n",
    "models = []\n",
    "\n",
    "for train_idx, test_idx in skf:  \n",
    "    model = LogisticRegression(class_weight='balanced')\n",
    "    model.fit(X.loc[train_idx,:], Y.loc[train_idx])\n",
    "    predictions = model.predict(X.loc[test_idx,:])\n",
    "    print classification_report(Y.loc[test_idx],predictions)\n",
    "    models.append(clf)"
   ]
  },
  {
   "cell_type": "code",
   "execution_count": 95,
   "metadata": {
    "collapsed": false
   },
   "outputs": [
    {
     "data": {
      "text/plain": [
       "([array([  7.29360000e+04,   0.00000000e+00,   1.86900000e+04,\n",
       "           0.00000000e+00,   6.00000000e+00,   4.50700000e+04,\n",
       "           0.00000000e+00,   1.95628000e+05,   0.00000000e+00,\n",
       "           9.23800000e+03]),\n",
       "  array([  9.23800000e+03,   0.00000000e+00,   1.95628000e+05,\n",
       "           0.00000000e+00,   4.50700000e+04,   6.00000000e+00,\n",
       "           0.00000000e+00,   1.86900000e+04,   0.00000000e+00,\n",
       "           7.29360000e+04])],\n",
       " array([ 0.0133555,  0.1106844,  0.2080133,  0.3053422,  0.4026711,\n",
       "         0.5      ,  0.5973289,  0.6946578,  0.7919867,  0.8893156,\n",
       "         0.9866445]),\n",
       " <a list of 2 Lists of Patches objects>)"
      ]
     },
     "execution_count": 95,
     "metadata": {},
     "output_type": "execute_result"
    },
    {
     "data": {
      "image/png": "[encoded data removed]",
      "text/plain": [
       "<matplotlib.figure.Figure at 0x137970990>"
      ]
     },
     "metadata": {},
     "output_type": "display_data"
    }
   ],
   "source": [
    "probabilities = pd.DataFrame(model.predict_proba(X))\n",
    "plt.hist(probabilities)"
   ]
  },
  {
   "cell_type": "code",
   "execution_count": 183,
   "metadata": {
    "collapsed": false
   },
   "outputs": [
    {
     "name": "stdout",
     "output_type": "stream",
     "text": [
      "             precision    recall  f1-score   support\n",
      "\n",
      "          0       0.92      0.84      0.88    237577\n",
      "          1       0.39      0.57      0.46     40646\n",
      "\n",
      "avg / total       0.84      0.80      0.82    278223\n",
      "\n"
     ]
    }
   ],
   "source": [
    "# DecisionTreeClassifier\n",
    "from sklearn import tree\n",
    "\n",
    "X = stats[['PageView', 'EmailClickthrough', 'FormSubmit', 'EmailOpen', 'WebVisit']]\n",
    "Y = stats['Purchase']\n",
    "\n",
    "clf = tree.DecisionTreeClassifier(class_weight='balanced')\n",
    "clf = clf.fit(X, Y)\n",
    "stats['Prediction'] = clf.predict(X)\n",
    "print classification_report(stats['Purchase'], stats['Prediction'])"
   ]
  },
  {
   "cell_type": "code",
   "execution_count": 110,
   "metadata": {
    "collapsed": true
   },
   "outputs": [],
   "source": [
    "X = stats[['PageView', 'EmailClickthrough', 'FormSubmit', 'EmailOpen', 'WebVisit']]\n",
    "Y = stats['Purchase']"
   ]
  },
  {
   "cell_type": "code",
   "execution_count": 188,
   "metadata": {
    "collapsed": false
   },
   "outputs": [
    {
     "name": "stdout",
     "output_type": "stream",
     "text": [
      "             precision    recall  f1-score   support\n",
      "\n",
      "          0       0.92      0.70      0.80     23758\n",
      "          1       0.26      0.62      0.37      4065\n",
      "\n",
      "avg / total       0.82      0.69      0.73     27823\n",
      "\n",
      "             precision    recall  f1-score   support\n",
      "\n",
      "          0       0.91      0.70      0.79     23758\n",
      "          1       0.26      0.62      0.37      4065\n",
      "\n",
      "avg / total       0.82      0.69      0.73     27823\n",
      "\n",
      "             precision    recall  f1-score   support\n",
      "\n",
      "          0       0.91      0.71      0.80     23758\n",
      "          1       0.26      0.60      0.36      4065\n",
      "\n",
      "avg / total       0.82      0.69      0.73     27823\n",
      "\n",
      "             precision    recall  f1-score   support\n",
      "\n",
      "          0       0.91      0.71      0.80     23758\n",
      "          1       0.26      0.61      0.37      4065\n",
      "\n",
      "avg / total       0.82      0.69      0.73     27823\n",
      "\n",
      "             precision    recall  f1-score   support\n",
      "\n",
      "          0       0.92      0.71      0.80     23758\n",
      "          1       0.27      0.62      0.37      4065\n",
      "\n",
      "avg / total       0.82      0.70      0.74     27823\n",
      "\n",
      "             precision    recall  f1-score   support\n",
      "\n",
      "          0       0.91      0.72      0.80     23758\n",
      "          1       0.27      0.61      0.37      4065\n",
      "\n",
      "avg / total       0.82      0.70      0.74     27823\n",
      "\n",
      "             precision    recall  f1-score   support\n",
      "\n",
      "          0       0.91      0.72      0.80     23758\n",
      "          1       0.27      0.60      0.37      4064\n",
      "\n",
      "avg / total       0.82      0.70      0.74     27822\n",
      "\n",
      "             precision    recall  f1-score   support\n",
      "\n",
      "          0       0.91      0.72      0.80     23757\n",
      "          1       0.27      0.60      0.37      4064\n",
      "\n",
      "avg / total       0.82      0.70      0.74     27821\n",
      "\n",
      "             precision    recall  f1-score   support\n",
      "\n",
      "          0       0.91      0.72      0.81     23757\n",
      "          1       0.27      0.61      0.37      4064\n",
      "\n",
      "avg / total       0.82      0.70      0.74     27821\n",
      "\n",
      "             precision    recall  f1-score   support\n",
      "\n",
      "          0       0.91      0.72      0.80     23757\n",
      "          1       0.26      0.59      0.36      4064\n",
      "\n",
      "avg / total       0.82      0.70      0.74     27821\n",
      "\n"
     ]
    }
   ],
   "source": [
    "# Decision tree with KFold\n",
    "\n",
    "from sklearn.cross_validation import StratifiedKFold\n",
    "skf = StratifiedKFold(stats['Purchase'], 10)\n",
    "models = []\n",
    "for train_idx, test_idx in skf:      \n",
    "    clf = tree.DecisionTreeClassifier(class_weight='balanced')\n",
    "    clf = clf.fit(X.loc[train_idx,:], Y.loc[train_idx])\n",
    "    predictions = clf.predict(X.loc[test_idx,:])\n",
    "    print classification_report(Y.loc[test_idx],predictions)\n",
    "    models.append(clf)"
   ]
  },
  {
   "cell_type": "code",
   "execution_count": 189,
   "metadata": {
    "collapsed": false
   },
   "outputs": [
    {
     "data": {
      "text/plain": [
       "DecisionTreeClassifier(class_weight='balanced', criterion='gini',\n",
       "            max_depth=None, max_features=None, max_leaf_nodes=None,\n",
       "            min_samples_leaf=1, min_samples_split=2,\n",
       "            min_weight_fraction_leaf=0.0, presort=False, random_state=None,\n",
       "            splitter='best')"
      ]
     },
     "execution_count": 189,
     "metadata": {},
     "output_type": "execute_result"
    }
   ],
   "source": [
    "# Pick the best model\n",
    "best_model = models[0]\n",
    "best_model"
   ]
  },
  {
   "cell_type": "code",
   "execution_count": 92,
   "metadata": {
    "collapsed": false
   },
   "outputs": [
    {
     "data": {
      "text/plain": [
       "([array([  6.33450000e+04,   0.00000000e+00,   0.00000000e+00,\n",
       "           0.00000000e+00,   0.00000000e+00,   2.39310000e+04,\n",
       "           7.70000000e+01,   3.90160000e+04,   3.23290000e+04,\n",
       "           1.82870000e+05]),\n",
       "  array([  1.82870000e+05,   3.22940000e+04,   3.90510000e+04,\n",
       "           7.70000000e+01,   2.39310000e+04,   0.00000000e+00,\n",
       "           0.00000000e+00,   0.00000000e+00,   0.00000000e+00,\n",
       "           6.33450000e+04])],\n",
       " array([ 0. ,  0.1,  0.2,  0.3,  0.4,  0.5,  0.6,  0.7,  0.8,  0.9,  1. ]),\n",
       " <a list of 2 Lists of Patches objects>)"
      ]
     },
     "execution_count": 92,
     "metadata": {},
     "output_type": "execute_result"
    },
    {
     "data": {
      "image/png": "[encoded data removed]",
      "text/plain": [
       "<matplotlib.figure.Figure at 0x1118abf10>"
      ]
     },
     "metadata": {},
     "output_type": "display_data"
    }
   ],
   "source": [
    "# Tree has more confidence and bigger separation\n",
    "probabilities = pd.DataFrame(clf.predict_proba(X))\n",
    "plt.hist(probabilities)"
   ]
  },
  {
   "cell_type": "code",
   "execution_count": 190,
   "metadata": {
    "collapsed": false
   },
   "outputs": [],
   "source": [
    "def make_test_data():\n",
    "    test = pd.read_table('test.tsv', sep='\\t', names=['user_id', 'activity_date', 'activity_type'])\n",
    "    dummies = pd.get_dummies(test['activity_type'])\n",
    "    expanded = pd.concat([test, dummies], axis=1)\n",
    "    stats = expanded.groupby('user_id', as_index=False).agg({'EmailClickthrough': 'sum',\n",
    "                                     'EmailOpen': 'sum',\n",
    "                                     'FormSubmit': 'sum',\n",
    "                                     'PageView': 'sum',\n",
    "                                     'WebVisit':'sum'})\n",
    "\n",
    "\n",
    "    stats['PageView'] = stats['PageView'].apply(lambda x: 1 if x > 0 else 0)\n",
    "    stats['EmailClickthrough'] = stats['EmailClickthrough'].apply(lambda x: 1 if x > 0 else 0)\n",
    "    stats['FormSubmit'] = stats['FormSubmit'].apply(lambda x: 1 if x > 0 else 0)\n",
    "    stats['EmailOpen'] = stats['EmailOpen'].apply(lambda x: 1 if x > 0 else 0)\n",
    "    stats['WebVisit'] = stats['WebVisit'].apply(lambda x: 1 if x > 0 else 0)\n",
    "    stats['Activity'] = stats['PageView'] + stats['EmailClickthrough'] + stats['FormSubmit'] + stats['EmailOpen'] + stats['WebVisit']\n",
    "    return stats"
   ]
  },
  {
   "cell_type": "code",
   "execution_count": 206,
   "metadata": {
    "collapsed": false
   },
   "outputs": [],
   "source": [
    "# Make final ranking\n",
    "features = stats[['PageView', 'EmailClickthrough', 'FormSubmit', 'EmailOpen', 'WebVisit']]\n",
    "final = pd.concat([stats, pd.DataFrame(best_model.predict_proba(features))], axis=1)\n",
    "test_users = final.sort(1, ascending=False)\n",
    "hello = test_users[['user_id', 1]]\n",
    "hello.rename(columns={1:'score'}, inplace=True)\n",
    "hello.to_csv('test_users.tsv', sep='\\t', index=False)"
   ]
  }
 ],
 "metadata": {
  "kernelspec": {
   "display_name": "Python 2",
   "language": "python",
   "name": "python2"
  },
  "language_info": {
   "codemirror_mode": {
    "name": "ipython",
    "version": 2
   },
   "file_extension": ".py",
   "mimetype": "text/x-python",
   "name": "python",
   "nbconvert_exporter": "python",
   "pygments_lexer": "ipython2",
   "version": "2.7.11"
  }
 },
 "nbformat": 4,
 "nbformat_minor": 0
}
