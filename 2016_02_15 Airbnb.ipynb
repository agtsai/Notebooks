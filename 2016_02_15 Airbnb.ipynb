{
 "cells": [
  {
   "cell_type": "code",
   "execution_count": null,
   "metadata": {
    "collapsed": false
   },
   "outputs": [],
   "source": [
    "# Questions\n",
    "\n",
    "What happens to the experience of contacting and booking a place on Airbnb when the guest is required to write a message like this?\n",
    "\n",
    "What should we do with change, expand to all or cancel?\n",
    "\n",
    "How would you explain the results to someone who is not highly technical?\n",
    "\n",
    "# Plan\n",
    "Import data\n",
    "Exploratory\n",
    "Any cleanup?\n",
    "Evaluate - bootstrap\n",
    "but what else happened to the experience?\n",
    "Recommendations\n",
    "\n",
    "Keep the top level plan in mind. And, you have finite energy!\n",
    "\n",
    "+ video\n",
    "+ models"
   ]
  },
  {
   "cell_type": "code",
   "execution_count": null,
   "metadata": {
    "collapsed": true
   },
   "outputs": [],
   "source": [
    "# Notes\n",
    "# build models?\n",
    "\n",
    "# precision of experiment?\n",
    "# the totals line up, which is nice\n",
    "\n",
    "# brush up on what this is exactly saying, but for now\n",
    "# Given observations\n",
    "# take the total assignments in each group\n",
    "# calculate the expected ratio for each month\n",
    "# see if there's a large divergence\n",
    "\n",
    "# these are guest ATTEMPTS, remember\n",
    "\n",
    "# Did people write at the same rate?\n",
    "# message length\n",
    "# were they replied/accepted/booked at the same rate?\n",
    "# bootstrap this\n",
    "\n",
    "# is there even a relationship between message length and all these?\n",
    "\n",
    "# rates, seasonality, all that?\n",
    "\n",
    "# but more statistical tests would be nice\n",
    "# also f seaborn, maybe we can do a line fill\n",
    "\n",
    "#4-6 hours huh\n",
    "\n",
    "\n",
    "# examine by month as well?\n",
    "# any time series trends?\n"
   ]
  },
  {
   "cell_type": "code",
   "execution_count": 98,
   "metadata": {
    "collapsed": true
   },
   "outputs": [],
   "source": [
    "import pandas as pd\n",
    "from scipy.stats import chi2_contingency, chisquare\n",
    "\n",
    "import matplotlib.pyplot as plt\n",
    "import numpy as np\n",
    "import seaborn as sns\n",
    "from IPython.display import display, HTML\n",
    "\n",
    "%matplotlib inline"
   ]
  },
  {
   "cell_type": "markdown",
   "metadata": {},
   "source": [
    "### Data"
   ]
  },
  {
   "cell_type": "code",
   "execution_count": 258,
   "metadata": {
    "collapsed": false
   },
   "outputs": [
    {
     "name": "stdout",
     "output_type": "stream",
     "text": [
      "(10000, 2)\n",
      "(10000, 9)\n",
      "(9104, 11)\n"
     ]
    }
   ],
   "source": [
    "# import\n",
    "assignments = pd.read_csv('Airbnb/takehome_assignments.csv')\n",
    "print assignments.shape\n",
    "contacts = pd.read_csv('Airbnb/takehome_contacts.csv')\n",
    "print contacts.shape\n",
    "\n",
    "# clean\n",
    "# take out users assigned to multiple groups\n",
    "assignments = assignments.groupby('id_user').filter(lambda x: x['ab'].nunique() == 1)\n",
    "# remove duplicate assignments\n",
    "assignments = assignments.groupby(['id_user', 'ab']).agg('count').reset_index()\n",
    "\n",
    "# merge\n",
    "data = contacts.merge(assignments, left_on='id_guest', right_on='id_user')\n",
    "print data.shape\n",
    "\n",
    "# transform\n",
    "data['ts_interaction_first'] = pd.to_datetime(data['ts_interaction_first'])\n",
    "data = pd.concat([data, pd.get_dummies(data['ab'])], axis=1)\n",
    "data['ts_interaction_first_month'] = data['ts_interaction_first'].apply(lambda x: '{}-{:02}'.format(x.year, x.month))\n",
    "\n",
    "# subsets\n",
    "all_data = data\n",
    "idx = data['dim_contact_channel'] == 'contact_me'\n",
    "contact_data = all_data[idx]\n",
    "\n",
    "# any data validation here?"
   ]
  },
  {
   "cell_type": "markdown",
   "metadata": {},
   "source": [
    "### Data overview"
   ]
  },
  {
   "cell_type": "code",
   "execution_count": 259,
   "metadata": {
    "collapsed": false
   },
   "outputs": [
    {
     "data": {
      "text/html": [
       "<div>\n",
       "<table border=\"1\" class=\"dataframe\">\n",
       "  <thead>\n",
       "    <tr style=\"text-align: right;\">\n",
       "      <th>dim_contact_channel</th>\n",
       "      <th>book_it</th>\n",
       "      <th>contact_me</th>\n",
       "      <th>instant_booked</th>\n",
       "    </tr>\n",
       "    <tr>\n",
       "      <th>ts_interaction_first_month</th>\n",
       "      <th></th>\n",
       "      <th></th>\n",
       "      <th></th>\n",
       "    </tr>\n",
       "  </thead>\n",
       "  <tbody>\n",
       "    <tr>\n",
       "      <th>2013-01</th>\n",
       "      <td>83</td>\n",
       "      <td>450</td>\n",
       "      <td>1</td>\n",
       "    </tr>\n",
       "    <tr>\n",
       "      <th>2013-02</th>\n",
       "      <td>81</td>\n",
       "      <td>497</td>\n",
       "      <td>4</td>\n",
       "    </tr>\n",
       "    <tr>\n",
       "      <th>2013-03</th>\n",
       "      <td>95</td>\n",
       "      <td>670</td>\n",
       "      <td>1</td>\n",
       "    </tr>\n",
       "    <tr>\n",
       "      <th>2013-04</th>\n",
       "      <td>119</td>\n",
       "      <td>772</td>\n",
       "      <td>5</td>\n",
       "    </tr>\n",
       "    <tr>\n",
       "      <th>2013-05</th>\n",
       "      <td>136</td>\n",
       "      <td>840</td>\n",
       "      <td>0</td>\n",
       "    </tr>\n",
       "    <tr>\n",
       "      <th>2013-06</th>\n",
       "      <td>135</td>\n",
       "      <td>755</td>\n",
       "      <td>2</td>\n",
       "    </tr>\n",
       "    <tr>\n",
       "      <th>2013-07</th>\n",
       "      <td>207</td>\n",
       "      <td>755</td>\n",
       "      <td>3</td>\n",
       "    </tr>\n",
       "    <tr>\n",
       "      <th>2013-08</th>\n",
       "      <td>251</td>\n",
       "      <td>715</td>\n",
       "      <td>8</td>\n",
       "    </tr>\n",
       "    <tr>\n",
       "      <th>2013-09</th>\n",
       "      <td>228</td>\n",
       "      <td>585</td>\n",
       "      <td>2</td>\n",
       "    </tr>\n",
       "    <tr>\n",
       "      <th>2013-10</th>\n",
       "      <td>161</td>\n",
       "      <td>449</td>\n",
       "      <td>8</td>\n",
       "    </tr>\n",
       "    <tr>\n",
       "      <th>2013-11</th>\n",
       "      <td>138</td>\n",
       "      <td>395</td>\n",
       "      <td>3</td>\n",
       "    </tr>\n",
       "    <tr>\n",
       "      <th>2013-12</th>\n",
       "      <td>136</td>\n",
       "      <td>407</td>\n",
       "      <td>7</td>\n",
       "    </tr>\n",
       "  </tbody>\n",
       "</table>\n",
       "</div>"
      ],
      "text/plain": [
       "dim_contact_channel         book_it  contact_me  instant_booked\n",
       "ts_interaction_first_month                                     \n",
       "2013-01                          83         450               1\n",
       "2013-02                          81         497               4\n",
       "2013-03                          95         670               1\n",
       "2013-04                         119         772               5\n",
       "2013-05                         136         840               0\n",
       "2013-06                         135         755               2\n",
       "2013-07                         207         755               3\n",
       "2013-08                         251         715               8\n",
       "2013-09                         228         585               2\n",
       "2013-10                         161         449               8\n",
       "2013-11                         138         395               3\n",
       "2013-12                         136         407               7"
      ]
     },
     "execution_count": 259,
     "metadata": {},
     "output_type": "execute_result"
    }
   ],
   "source": [
    "# Guest attempts per channel\n",
    "pd.pivot_table(all_data, \n",
    "               values='id_guest', \n",
    "               index='ts_interaction_first_month', \n",
    "               columns='dim_contact_channel', \n",
    "               aggfunc='count').fillna(0)"
   ]
  },
  {
   "cell_type": "code",
   "execution_count": 260,
   "metadata": {
    "collapsed": false
   },
   "outputs": [
    {
     "data": {
      "text/html": [
       "<div>\n",
       "<table border=\"1\" class=\"dataframe\">\n",
       "  <thead>\n",
       "    <tr style=\"text-align: right;\">\n",
       "      <th></th>\n",
       "      <th>ts_reply_at_first</th>\n",
       "      <th>ts_accepted_at_first</th>\n",
       "      <th>ts_booking_at</th>\n",
       "      <th>id_guest</th>\n",
       "    </tr>\n",
       "    <tr>\n",
       "      <th>ts_interaction_first</th>\n",
       "      <th></th>\n",
       "      <th></th>\n",
       "      <th></th>\n",
       "      <th></th>\n",
       "    </tr>\n",
       "  </thead>\n",
       "  <tbody>\n",
       "    <tr>\n",
       "      <th>2013-01-31</th>\n",
       "      <td>476</td>\n",
       "      <td>204</td>\n",
       "      <td>130</td>\n",
       "      <td>534</td>\n",
       "    </tr>\n",
       "    <tr>\n",
       "      <th>2013-02-28</th>\n",
       "      <td>509</td>\n",
       "      <td>203</td>\n",
       "      <td>124</td>\n",
       "      <td>582</td>\n",
       "    </tr>\n",
       "    <tr>\n",
       "      <th>2013-03-31</th>\n",
       "      <td>678</td>\n",
       "      <td>262</td>\n",
       "      <td>178</td>\n",
       "      <td>766</td>\n",
       "    </tr>\n",
       "    <tr>\n",
       "      <th>2013-04-30</th>\n",
       "      <td>744</td>\n",
       "      <td>275</td>\n",
       "      <td>172</td>\n",
       "      <td>896</td>\n",
       "    </tr>\n",
       "    <tr>\n",
       "      <th>2013-05-31</th>\n",
       "      <td>811</td>\n",
       "      <td>289</td>\n",
       "      <td>191</td>\n",
       "      <td>976</td>\n",
       "    </tr>\n",
       "    <tr>\n",
       "      <th>2013-06-30</th>\n",
       "      <td>731</td>\n",
       "      <td>272</td>\n",
       "      <td>168</td>\n",
       "      <td>892</td>\n",
       "    </tr>\n",
       "    <tr>\n",
       "      <th>2013-07-31</th>\n",
       "      <td>815</td>\n",
       "      <td>322</td>\n",
       "      <td>213</td>\n",
       "      <td>965</td>\n",
       "    </tr>\n",
       "    <tr>\n",
       "      <th>2013-08-31</th>\n",
       "      <td>833</td>\n",
       "      <td>349</td>\n",
       "      <td>240</td>\n",
       "      <td>974</td>\n",
       "    </tr>\n",
       "    <tr>\n",
       "      <th>2013-09-30</th>\n",
       "      <td>717</td>\n",
       "      <td>297</td>\n",
       "      <td>199</td>\n",
       "      <td>815</td>\n",
       "    </tr>\n",
       "    <tr>\n",
       "      <th>2013-10-31</th>\n",
       "      <td>544</td>\n",
       "      <td>248</td>\n",
       "      <td>170</td>\n",
       "      <td>618</td>\n",
       "    </tr>\n",
       "    <tr>\n",
       "      <th>2013-11-30</th>\n",
       "      <td>492</td>\n",
       "      <td>220</td>\n",
       "      <td>140</td>\n",
       "      <td>536</td>\n",
       "    </tr>\n",
       "    <tr>\n",
       "      <th>2013-12-31</th>\n",
       "      <td>491</td>\n",
       "      <td>215</td>\n",
       "      <td>152</td>\n",
       "      <td>550</td>\n",
       "    </tr>\n",
       "  </tbody>\n",
       "</table>\n",
       "</div>"
      ],
      "text/plain": [
       "                      ts_reply_at_first  ts_accepted_at_first  ts_booking_at  \\\n",
       "ts_interaction_first                                                           \n",
       "2013-01-31                          476                   204            130   \n",
       "2013-02-28                          509                   203            124   \n",
       "2013-03-31                          678                   262            178   \n",
       "2013-04-30                          744                   275            172   \n",
       "2013-05-31                          811                   289            191   \n",
       "2013-06-30                          731                   272            168   \n",
       "2013-07-31                          815                   322            213   \n",
       "2013-08-31                          833                   349            240   \n",
       "2013-09-30                          717                   297            199   \n",
       "2013-10-31                          544                   248            170   \n",
       "2013-11-30                          492                   220            140   \n",
       "2013-12-31                          491                   215            152   \n",
       "\n",
       "                      id_guest  \n",
       "ts_interaction_first            \n",
       "2013-01-31                 534  \n",
       "2013-02-28                 582  \n",
       "2013-03-31                 766  \n",
       "2013-04-30                 896  \n",
       "2013-05-31                 976  \n",
       "2013-06-30                 892  \n",
       "2013-07-31                 965  \n",
       "2013-08-31                 974  \n",
       "2013-09-30                 815  \n",
       "2013-10-31                 618  \n",
       "2013-11-30                 536  \n",
       "2013-12-31                 550  "
      ]
     },
     "execution_count": 260,
     "metadata": {},
     "output_type": "execute_result"
    }
   ],
   "source": [
    "# Guest outcomes\n",
    "all_data.set_index('ts_interaction_first').resample('M', {'id_guest':'count',\n",
    "                                                          'ts_reply_at_first':'count',\n",
    "                                                          'ts_accepted_at_first':'count',\n",
    "                                                          'ts_booking_at':'count'})"
   ]
  },
  {
   "cell_type": "markdown",
   "metadata": {},
   "source": [
    "### Was the experiment done correctly?"
   ]
  },
  {
   "cell_type": "code",
   "execution_count": 261,
   "metadata": {
    "collapsed": false
   },
   "outputs": [
    {
     "data": {
      "text/plain": [
       "(8.4900358591822354,\n",
       " 0.66885022936276195,\n",
       " 11,\n",
       " array([[ 266.88268893,  267.11731107],\n",
       "        [ 290.87214411,  291.12785589],\n",
       "        [ 382.83172232,  383.16827768],\n",
       "        [ 447.80316344,  448.19683656],\n",
       "        [ 487.78558875,  488.21441125],\n",
       "        [ 445.80404218,  446.19595782],\n",
       "        [ 482.28800527,  482.71199473],\n",
       "        [ 486.78602812,  487.21397188],\n",
       "        [ 407.32095782,  407.67904218],\n",
       "        [ 308.8642355 ,  309.1357645 ],\n",
       "        [ 267.88224956,  268.11775044],\n",
       "        [ 274.87917399,  275.12082601]]))"
      ]
     },
     "execution_count": 261,
     "metadata": {},
     "output_type": "execute_result"
    }
   ],
   "source": [
    "# Were the control/treatment allocations skewed in any way? \n",
    "# (I looked at this by channel too, for some reason)\n",
    "# (control and treatment added up to totals)\n",
    "\n",
    "how = {'control':'sum', 'treatment':'sum'}\n",
    "monthly = all_data.set_index('ts_interaction_first').resample('M', how=how)\n",
    "chi2_contingency(monthly)"
   ]
  },
  {
   "cell_type": "code",
   "execution_count": 265,
   "metadata": {
    "collapsed": false
   },
   "outputs": [
    {
     "data": {
      "text/plain": [
       "count    3648.000000\n",
       "mean      343.475603\n",
       "std       238.579193\n",
       "min         0.000000\n",
       "25%       186.000000\n",
       "50%       289.000000\n",
       "75%       435.250000\n",
       "max      2654.000000\n",
       "Name: m_first_message_length, dtype: float64"
      ]
     },
     "execution_count": 265,
     "metadata": {},
     "output_type": "execute_result"
    }
   ],
   "source": [
    "contact_data.loc[control_idx, 'm_first_message_length'].describe()"
   ]
  },
  {
   "cell_type": "code",
   "execution_count": 280,
   "metadata": {
    "collapsed": false
   },
   "outputs": [
    {
     "data": {
      "text/plain": [
       "<matplotlib.legend.Legend at 0x11c119410>"
      ]
     },
     "execution_count": 280,
     "metadata": {},
     "output_type": "execute_result"
    },
    {
     "data": {
      "image/png": "[encoded data removed]",
      "text/plain": [
       "<matplotlib.figure.Figure at 0x11bcc8d50>"
      ]
     },
     "metadata": {},
     "output_type": "display_data"
    }
   ],
   "source": [
    "# What happened to message length? \n",
    "# Expect to see no first messages < 140\n",
    "\n",
    "control_idx = contact_data['ab'] == 'control'\n",
    "treatment_idx = contact_data['ab'] == 'treatment'\n",
    "bins = [0,100,200,300,400,500,600,700,800,900,1000]\n",
    "#print contact_data.loc[control_idx, 'm_first_message_length'].describe()\n",
    "#print contact_data.loc[treatment_idx, 'm_first_message_length'].describe()\n",
    "plt.hist(contact_data.loc[treatment_idx, 'm_first_message_length'], bins=bins, alpha=0.5, normed=1, label='treatment')\n",
    "plt.hist(contact_data.loc[control_idx, 'm_first_message_length'], bins=bins, alpha=0.5, normed=1, label='control')\n",
    "plt.legend()\n",
    "# label, change opacity, normalize\n",
    "# This is also very weird. "
   ]
  },
  {
   "cell_type": "code",
   "execution_count": 281,
   "metadata": {
    "collapsed": false
   },
   "outputs": [
    {
     "data": {
      "text/html": [
       "<div>\n",
       "<table border=\"1\" class=\"dataframe\">\n",
       "  <thead>\n",
       "    <tr style=\"text-align: right;\">\n",
       "      <th></th>\n",
       "      <th>id_listing</th>\n",
       "    </tr>\n",
       "    <tr>\n",
       "      <th>ab</th>\n",
       "      <th></th>\n",
       "    </tr>\n",
       "  </thead>\n",
       "  <tbody>\n",
       "    <tr>\n",
       "      <th>control</th>\n",
       "      <td>542</td>\n",
       "    </tr>\n",
       "    <tr>\n",
       "      <th>treatment</th>\n",
       "      <td>494</td>\n",
       "    </tr>\n",
       "  </tbody>\n",
       "</table>\n",
       "</div>"
      ],
      "text/plain": [
       "           id_listing\n",
       "ab                   \n",
       "control           542\n",
       "treatment         494"
      ]
     },
     "execution_count": 281,
     "metadata": {},
     "output_type": "execute_result"
    }
   ],
   "source": [
    "idx = contact_data['m_first_message_length'] < 140\n",
    "contact_data[idx].groupby('ab').agg({'id_listing':'count'})"
   ]
  },
  {
   "cell_type": "code",
   "execution_count": 282,
   "metadata": {
    "collapsed": false
   },
   "outputs": [
    {
     "data": {
      "text/html": [
       "<div>\n",
       "<table border=\"1\" class=\"dataframe\">\n",
       "  <thead>\n",
       "    <tr style=\"text-align: right;\">\n",
       "      <th></th>\n",
       "      <th>id_listing</th>\n",
       "    </tr>\n",
       "    <tr>\n",
       "      <th>ab</th>\n",
       "      <th></th>\n",
       "    </tr>\n",
       "  </thead>\n",
       "  <tbody>\n",
       "    <tr>\n",
       "      <th>control</th>\n",
       "      <td>3648</td>\n",
       "    </tr>\n",
       "    <tr>\n",
       "      <th>treatment</th>\n",
       "      <td>3642</td>\n",
       "    </tr>\n",
       "  </tbody>\n",
       "</table>\n",
       "</div>"
      ],
      "text/plain": [
       "           id_listing\n",
       "ab                   \n",
       "control          3648\n",
       "treatment        3642"
      ]
     },
     "execution_count": 282,
     "metadata": {},
     "output_type": "execute_result"
    }
   ],
   "source": [
    "contact_data.groupby('ab').agg({'id_listing':'count'})"
   ]
  },
  {
   "cell_type": "code",
   "execution_count": 283,
   "metadata": {
    "collapsed": false
   },
   "outputs": [
    {
     "name": "stdout",
     "output_type": "stream",
     "text": [
      "0.148574561404\n",
      "0.135639758375\n"
     ]
    }
   ],
   "source": [
    "print 542.0 / 3648\n",
    "print 494.0 / 3642"
   ]
  },
  {
   "cell_type": "code",
   "execution_count": 285,
   "metadata": {
    "collapsed": false
   },
   "outputs": [
    {
     "data": {
      "text/html": [
       "<div>\n",
       "<table border=\"1\" class=\"dataframe\">\n",
       "  <thead>\n",
       "    <tr style=\"text-align: right;\">\n",
       "      <th></th>\n",
       "      <th>id_listing</th>\n",
       "    </tr>\n",
       "    <tr>\n",
       "      <th>ab</th>\n",
       "      <th></th>\n",
       "    </tr>\n",
       "  </thead>\n",
       "  <tbody>\n",
       "    <tr>\n",
       "      <th>control</th>\n",
       "      <td>1348</td>\n",
       "    </tr>\n",
       "    <tr>\n",
       "      <th>treatment</th>\n",
       "      <td>1422</td>\n",
       "    </tr>\n",
       "  </tbody>\n",
       "</table>\n",
       "</div>"
      ],
      "text/plain": [
       "           id_listing\n",
       "ab                   \n",
       "control          1348\n",
       "treatment        1422"
      ]
     },
     "execution_count": 285,
     "metadata": {},
     "output_type": "execute_result"
    }
   ],
   "source": [
    "idx = (contact_data['m_first_message_length'] > 140) & (contact_data['m_first_message_length'] < 300)\n",
    "contact_data[idx].groupby('ab').agg({'id_listing':'count'})"
   ]
  },
  {
   "cell_type": "code",
   "execution_count": 287,
   "metadata": {
    "collapsed": false
   },
   "outputs": [
    {
     "name": "stdout",
     "output_type": "stream",
     "text": [
      "0.36951754386\n",
      "0.390444810544\n"
     ]
    }
   ],
   "source": [
    "print 1348.0 / 3648\n",
    "print 1422.0 / 3642"
   ]
  },
  {
   "cell_type": "code",
   "execution_count": null,
   "metadata": {
    "collapsed": true
   },
   "outputs": [],
   "source": []
  },
  {
   "cell_type": "markdown",
   "metadata": {},
   "source": [
    "### Experiment Outcomes"
   ]
  },
  {
   "cell_type": "code",
   "execution_count": 144,
   "metadata": {
    "collapsed": true
   },
   "outputs": [],
   "source": [
    "# Did users have more success?\n",
    "# How did user behavior change? (more attempts per guest, etc?)"
   ]
  },
  {
   "cell_type": "code",
   "execution_count": null,
   "metadata": {
    "collapsed": true
   },
   "outputs": [],
   "source": [
    "# cumulative graph of each outcome with intervals\n",
    "\n",
    "# do a cumulative rollup of rates, + confidence intervals\n",
    "\n",
    "# for each you'll need to bootstrap, fuck me. \n",
    "\n"
   ]
  },
  {
   "cell_type": "code",
   "execution_count": 393,
   "metadata": {
    "collapsed": false,
    "scrolled": true
   },
   "outputs": [
    {
     "data": {
      "text/html": [
       "<div>\n",
       "<table border=\"1\" class=\"dataframe\">\n",
       "  <thead>\n",
       "    <tr style=\"text-align: right;\">\n",
       "      <th></th>\n",
       "      <th>id_guest</th>\n",
       "      <th>ts_interaction_first</th>\n",
       "      <th>ts_reply_at_first</th>\n",
       "      <th>ts_accepted_at_first</th>\n",
       "      <th>ts_booking_at</th>\n",
       "    </tr>\n",
       "    <tr>\n",
       "      <th>ab</th>\n",
       "      <th></th>\n",
       "      <th></th>\n",
       "      <th></th>\n",
       "      <th></th>\n",
       "      <th></th>\n",
       "    </tr>\n",
       "  </thead>\n",
       "  <tbody>\n",
       "    <tr>\n",
       "      <th>control</th>\n",
       "      <td>3648</td>\n",
       "      <td>3648</td>\n",
       "      <td>3076</td>\n",
       "      <td>1059</td>\n",
       "      <td>507</td>\n",
       "    </tr>\n",
       "    <tr>\n",
       "      <th>treatment</th>\n",
       "      <td>3642</td>\n",
       "      <td>3642</td>\n",
       "      <td>3104</td>\n",
       "      <td>1042</td>\n",
       "      <td>524</td>\n",
       "    </tr>\n",
       "  </tbody>\n",
       "</table>\n",
       "</div>"
      ],
      "text/plain": [
       "           id_guest  ts_interaction_first  ts_reply_at_first  \\\n",
       "ab                                                             \n",
       "control        3648                  3648               3076   \n",
       "treatment      3642                  3642               3104   \n",
       "\n",
       "           ts_accepted_at_first  ts_booking_at  \n",
       "ab                                              \n",
       "control                    1059            507  \n",
       "treatment                  1042            524  "
      ]
     },
     "metadata": {},
     "output_type": "display_data"
    },
    {
     "name": "stdout",
     "output_type": "stream",
     "text": [
      "ab\n",
      "control      0.843202\n",
      "treatment    0.852279\n",
      "dtype: float64\n",
      "ab\n",
      "control      0.290296\n",
      "treatment    0.286107\n",
      "dtype: float64\n",
      "ab\n",
      "control      0.138980\n",
      "treatment    0.143877\n",
      "dtype: float64\n"
     ]
    }
   ],
   "source": [
    "# current status with all data\n",
    "pipeline = contact_data.groupby('ab').agg({'id_guest': 'count', \n",
    "                        'ts_interaction_first':'count',\n",
    "                        'ts_reply_at_first':'count',\n",
    "                        'ts_booking_at':'count',\n",
    "                        'ts_accepted_at_first':'count'})\n",
    "\n",
    "pipeline = pipeline[['id_guest', 'ts_interaction_first', 'ts_reply_at_first', 'ts_accepted_at_first', 'ts_booking_at']]\n",
    "display(pipeline)\n",
    "print pipeline['ts_reply_at_first'] / pipeline['id_guest']\n",
    "print pipeline['ts_accepted_at_first'] / pipeline['id_guest']\n",
    "print pipeline['ts_booking_at'] / pipeline['id_guest']"
   ]
  },
  {
   "cell_type": "code",
   "execution_count": 395,
   "metadata": {
    "collapsed": false
   },
   "outputs": [
    {
     "name": "stdout",
     "output_type": "stream",
     "text": [
      "0.28223662092\n",
      "0.698159210151\n",
      "0.567757372102\n"
     ]
    }
   ],
   "source": [
    "# Any significant difference between groups in pipeline?\n",
    "# what is the probability we would have seen this difference if the two populations came from the same group? \n",
    "# (i.e., labels are meaningless)\n",
    "\n",
    "from scipy.stats import fisher_exact\n",
    "\n",
    "keys = ['ts_reply_at_first', 'ts_accepted_at_first', 'ts_booking_at']\n",
    "\n",
    "for k in keys:\n",
    "    complement = pipeline['id_guest'] - pipeline[k]\n",
    "    contingency_table = pd.concat([pipeline[k], complement], axis=1)\n",
    "    odds_ratio, p_value = fisher_exact(contingency_table)\n",
    "    print p_value\n",
    "    \n",
    "# I feel like this doesn't quite line up with below?"
   ]
  },
  {
   "cell_type": "code",
   "execution_count": 409,
   "metadata": {
    "collapsed": false
   },
   "outputs": [],
   "source": [
    "# What is the power of this test?\n",
    "\n",
    "# flatten to unique guests, as some have multiple booking attempts\n",
    "unique_guests = contact_data.groupby('id_guest', as_index=False).agg({'ts_interaction_first':'count',\n",
    "                                                                      'ts_reply_at_first':'count',\n",
    "                                                                      'ts_accepted_at_first':'count',\n",
    "                                                                      'ts_booking_at':'count'})\n",
    "\n",
    "# Bootstrap these people\n",
    "def bootstrap(dataframe, number_of_samples):\n",
    "    sample_stats = []\n",
    "    keys = ['ts_interaction_first', 'ts_reply_at_first', 'ts_accepted_at_first', 'ts_booking_at']\n",
    "    indexes = np.random.choice(dataframe.index, [number_of_samples, len(dataframe.index)], replace=True)\n",
    "    for i in indexes:\n",
    "        sample = dataframe.loc[i, :]\n",
    "        stats = {k:sample[k].count() for k in keys}\n",
    "        sample_stats.append(stats)\n",
    "    return pd.DataFrame.from_records(sample_stats)\n",
    "\n",
    "def get_conf_intervals(dataframe, label):\n",
    "    keys = ['ts_interaction_first', 'ts_reply_at_first', 'ts_accepted_at_first', 'ts_booking_at']\n",
    "    stats = {'cell': label}\n",
    "    for k in keys:\n",
    "        stats[\"{}_mean\".format(k)] = dataframe[k].mean()\n",
    "        stats[\"{}_05\".format(k)] = dataframe[k].quantile(0.05)\n",
    "        stats[\"{}_95\".format(k)] = dataframe[k].quantile(0.95)\n",
    "    return pd.DataFrame.from_records([stats])\n",
    "\n",
    "control_bootstrap = bootstrap(contact_data[control_idx].reset_index(drop=True), number_of_samples=100)\n",
    "treatment_bootstrap = bootstrap(contact_data[treatment_idx].reset_index(drop=True), number_of_samples=100)\n",
    "control_sample_stats = get_conf_intervals(control_bootstrap, label='control')\n",
    "treatment_sample_stats = get_conf_intervals(treatment_bootstrap, label='treatment')\n",
    "ci = pd.concat([control_sample_stats, treatment_sample_stats], axis=0).reset_index(drop=True)"
   ]
  },
  {
   "cell_type": "code",
   "execution_count": 412,
   "metadata": {
    "collapsed": false
   },
   "outputs": [
    {
     "data": {
      "text/html": [
       "<div>\n",
       "<table border=\"1\" class=\"dataframe\">\n",
       "  <thead>\n",
       "    <tr style=\"text-align: right;\">\n",
       "      <th></th>\n",
       "      <th>cell</th>\n",
       "      <th>ts_accepted_at_first_05</th>\n",
       "      <th>ts_accepted_at_first_95</th>\n",
       "      <th>ts_accepted_at_first_mean</th>\n",
       "      <th>ts_booking_at_05</th>\n",
       "      <th>ts_booking_at_95</th>\n",
       "      <th>ts_booking_at_mean</th>\n",
       "      <th>ts_interaction_first_05</th>\n",
       "      <th>ts_interaction_first_95</th>\n",
       "      <th>ts_interaction_first_mean</th>\n",
       "      <th>ts_reply_at_first_05</th>\n",
       "      <th>ts_reply_at_first_95</th>\n",
       "      <th>ts_reply_at_first_mean</th>\n",
       "    </tr>\n",
       "  </thead>\n",
       "  <tbody>\n",
       "    <tr>\n",
       "      <th>0</th>\n",
       "      <td>control</td>\n",
       "      <td>1018.95</td>\n",
       "      <td>1108.05</td>\n",
       "      <td>1059.08</td>\n",
       "      <td>481.7</td>\n",
       "      <td>539.30</td>\n",
       "      <td>507.64</td>\n",
       "      <td>3648</td>\n",
       "      <td>3648</td>\n",
       "      <td>3648</td>\n",
       "      <td>3046.00</td>\n",
       "      <td>3120.00</td>\n",
       "      <td>3081.38</td>\n",
       "    </tr>\n",
       "    <tr>\n",
       "      <th>1</th>\n",
       "      <td>treatment</td>\n",
       "      <td>1006.95</td>\n",
       "      <td>1079.15</td>\n",
       "      <td>1043.65</td>\n",
       "      <td>499.0</td>\n",
       "      <td>553.05</td>\n",
       "      <td>524.14</td>\n",
       "      <td>3642</td>\n",
       "      <td>3642</td>\n",
       "      <td>3642</td>\n",
       "      <td>3071.85</td>\n",
       "      <td>3134.05</td>\n",
       "      <td>3102.64</td>\n",
       "    </tr>\n",
       "  </tbody>\n",
       "</table>\n",
       "</div>"
      ],
      "text/plain": [
       "        cell  ts_accepted_at_first_05  ts_accepted_at_first_95  \\\n",
       "0    control                  1018.95                  1108.05   \n",
       "1  treatment                  1006.95                  1079.15   \n",
       "\n",
       "   ts_accepted_at_first_mean  ts_booking_at_05  ts_booking_at_95  \\\n",
       "0                    1059.08             481.7            539.30   \n",
       "1                    1043.65             499.0            553.05   \n",
       "\n",
       "   ts_booking_at_mean  ts_interaction_first_05  ts_interaction_first_95  \\\n",
       "0              507.64                     3648                     3648   \n",
       "1              524.14                     3642                     3642   \n",
       "\n",
       "   ts_interaction_first_mean  ts_reply_at_first_05  ts_reply_at_first_95  \\\n",
       "0                       3648               3046.00               3120.00   \n",
       "1                       3642               3071.85               3134.05   \n",
       "\n",
       "   ts_reply_at_first_mean  \n",
       "0                 3081.38  \n",
       "1                 3102.64  "
      ]
     },
     "execution_count": 412,
     "metadata": {},
     "output_type": "execute_result"
    }
   ],
   "source": [
    "ci"
   ]
  },
  {
   "cell_type": "code",
   "execution_count": 414,
   "metadata": {
    "collapsed": false
   },
   "outputs": [
    {
     "name": "stdout",
     "output_type": "stream",
     "text": [
      "ts_reply_at_first 0.0101934847374\n",
      "ts_accepted_at_first 0.0335196585716\n",
      "ts_booking_at 0.0569498069498\n"
     ]
    }
   ],
   "source": [
    "# By this point we could have detected an effect size of ____ with 95% confidence (power)\n",
    "\n",
    "# effect size @ 95%\n",
    "keys = ['ts_reply_at_first', 'ts_accepted_at_first', 'ts_booking_at']\n",
    "for k in keys:\n",
    "    effect_size = ci.loc[1, '{}_95'.format(k)] - ci.loc[1, '{}_mean'.format(k)]\n",
    "    print k, effect_size / ci.loc[0, '{}_mean'.format(k)]\n"
   ]
  },
  {
   "cell_type": "code",
   "execution_count": 401,
   "metadata": {
    "collapsed": false
   },
   "outputs": [
    {
     "data": {
      "text/plain": [
       "(array([  1.,   4.,   7.,  17.,  10.,  21.,  16.,  14.,   9.,   1.]),\n",
       " array([ 3011. ,  3022.2,  3033.4,  3044.6,  3055.8,  3067. ,  3078.2,\n",
       "         3089.4,  3100.6,  3111.8,  3123. ]),\n",
       " <a list of 10 Patch objects>)"
      ]
     },
     "execution_count": 401,
     "metadata": {},
     "output_type": "execute_result"
    },
    {
     "data": {
      "image/png": "[encoded data removed]",
      "text/plain": [
       "<matplotlib.figure.Figure at 0x1194dff90>"
      ]
     },
     "metadata": {},
     "output_type": "display_data"
    }
   ],
   "source": [
    "# display two bootstraps\n",
    "#control_bootstrap.head()\n",
    "#treatment_bootstrap.head()\n",
    "plt.hist(control_bootstrap['ts_reply_at_first'])\n",
    "plt.hist(treatment_bootstrap['ts_reply_at_first'])\n",
    "\n",
    "# I'm missing a step here, but what\n",
    "# With this many tests, an effect size of ____ would have been detected ___ percent of the time\n",
    "# but instead we have the following. "
   ]
  },
  {
   "cell_type": "code",
   "execution_count": null,
   "metadata": {
    "collapsed": true
   },
   "outputs": [],
   "source": [
    "# Done"
   ]
  },
  {
   "cell_type": "code",
   "execution_count": null,
   "metadata": {
    "collapsed": true
   },
   "outputs": [],
   "source": []
  },
  {
   "cell_type": "code",
   "execution_count": null,
   "metadata": {
    "collapsed": true
   },
   "outputs": [],
   "source": []
  },
  {
   "cell_type": "code",
   "execution_count": null,
   "metadata": {
    "collapsed": true
   },
   "outputs": [],
   "source": [
    "# Bootstrap these results\n",
    "# Also use other tests? Look at Fischer exact and wilcoxan. Other than that. Hah, now I need it!\n",
    "# tsplot\n",
    "# look at small message groups?\n",
    "# also watch video\n",
    "# brainstorm other questions?\n",
    "# power / effect?\n",
    "\n",
    "\n",
    "# Fischer exact test\n",
    "# convergence calcs?\n",
    "# plotting by month will be tough. Maybe a shitty tsplot will be okay. \n",
    "# writeup\n",
    "\n",
    "\n",
    "\n",
    "# Bootstrap\n",
    "# group up data to make unique\n",
    "# make sample, and sample means\n",
    "\n",
    "# spend time making sure you really know what's going on with all the statistics (chi, fisher, bootstrap)\n",
    "\n",
    "# make sample\n",
    "# count # interaction, reply, accepted, booking\n",
    "\n"
   ]
  },
  {
   "cell_type": "code",
   "execution_count": null,
   "metadata": {
    "collapsed": false
   },
   "outputs": [],
   "source": [
    "# significant overlap...but how much overlap?"
   ]
  },
  {
   "cell_type": "code",
   "execution_count": null,
   "metadata": {
    "collapsed": true
   },
   "outputs": [],
   "source": []
  },
  {
   "cell_type": "code",
   "execution_count": 356,
   "metadata": {
    "collapsed": false
   },
   "outputs": [
    {
     "data": {
      "text/plain": [
       "(array([  1.,  10.,  17.,  23.,  32.,  11.,   4.,   1.,   0.,   1.]),\n",
       " array([ 461. ,  473.4,  485.8,  498.2,  510.6,  523. ,  535.4,  547.8,\n",
       "         560.2,  572.6,  585. ]),\n",
       " <a list of 10 Patch objects>)"
      ]
     },
     "execution_count": 356,
     "metadata": {},
     "output_type": "execute_result"
    },
    {
     "data": {
      "image/png": "[encoded data removed]",
      "text/plain": [
       "<matplotlib.figure.Figure at 0x1173467d0>"
      ]
     },
     "metadata": {},
     "output_type": "display_data"
    }
   ],
   "source": [
    "plt.hist(control_stats['ts_booking_at'])\n",
    "plt.hist(treatment_stats['ts_booking_at'])"
   ]
  },
  {
   "cell_type": "code",
   "execution_count": 294,
   "metadata": {
    "collapsed": false
   },
   "outputs": [
    {
     "data": {
      "text/plain": [
       "1    6613\n",
       "2     295\n",
       "3      25\n",
       "4       3\n",
       "Name: id_listing, dtype: int64"
      ]
     },
     "execution_count": 294,
     "metadata": {},
     "output_type": "execute_result"
    }
   ],
   "source": [
    "contact_data.groupby('id_guest').agg({'id_listing':'count'})['id_listing'].value_counts()"
   ]
  },
  {
   "cell_type": "code",
   "execution_count": 297,
   "metadata": {
    "collapsed": false
   },
   "outputs": [
    {
     "data": {
      "text/plain": [
       "1    3303\n",
       "2     157\n",
       "3       9\n",
       "4       1\n",
       "Name: id_listing, dtype: int64"
      ]
     },
     "metadata": {},
     "output_type": "display_data"
    },
    {
     "data": {
      "text/plain": [
       "1    3310\n",
       "2     138\n",
       "3      16\n",
       "4       2\n",
       "Name: id_listing, dtype: int64"
      ]
     },
     "metadata": {},
     "output_type": "display_data"
    }
   ],
   "source": [
    "# Did guests reach out to fewer listings?\n",
    "\n",
    "# Were responses faster?\n",
    "\n",
    "#display(contact_data[control_idx].groupby('id_guest').agg({'id_listing':'count'}).describe())\n",
    "#display(contact_data[treatment_idx].groupby('id_guest').agg({'id_listing':'count'}).describe())\n",
    "\n",
    "display(contact_data[control_idx].groupby('id_guest').agg({'id_listing':'count'})['id_listing'].value_counts())\n",
    "display(contact_data[treatment_idx].groupby('id_guest').agg({'id_listing':'count'})['id_listing'].value_counts())"
   ]
  },
  {
   "cell_type": "code",
   "execution_count": null,
   "metadata": {
    "collapsed": false
   },
   "outputs": [],
   "source": [
    "# time of day stuff"
   ]
  },
  {
   "cell_type": "code",
   "execution_count": null,
   "metadata": {
    "collapsed": true
   },
   "outputs": [],
   "source": [
    "# conclusions\n",
    "\n",
    "Not much happened, but there are some indications \n",
    "that the experiment was not run totally correctly?"
   ]
  },
  {
   "cell_type": "code",
   "execution_count": null,
   "metadata": {
    "collapsed": true
   },
   "outputs": [],
   "source": []
  },
  {
   "cell_type": "code",
   "execution_count": null,
   "metadata": {
    "collapsed": true
   },
   "outputs": [],
   "source": []
  },
  {
   "cell_type": "code",
   "execution_count": null,
   "metadata": {
    "collapsed": true
   },
   "outputs": [],
   "source": []
  },
  {
   "cell_type": "code",
   "execution_count": null,
   "metadata": {
    "collapsed": false
   },
   "outputs": [],
   "source": [
    "unique_guests.loc[[1,2,1], :]\n",
    "np.random.choice(contact_data.index, (2, len(contact_data.index)))\n",
    "#contact_data.groupby(None).agg({'ts_interaction_first':'count'})"
   ]
  }
 ],
 "metadata": {
  "kernelspec": {
   "display_name": "Python 2",
   "language": "python",
   "name": "python2"
  },
  "language_info": {
   "codemirror_mode": {
    "name": "ipython",
    "version": 2
   },
   "file_extension": ".py",
   "mimetype": "text/x-python",
   "name": "python",
   "nbconvert_exporter": "python",
   "pygments_lexer": "ipython2",
   "version": "2.7.11"
  }
 },
 "nbformat": 4,
 "nbformat_minor": 0
}
