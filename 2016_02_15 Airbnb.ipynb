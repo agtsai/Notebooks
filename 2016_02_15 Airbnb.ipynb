{
 "cells": [
  {
   "cell_type": "markdown",
   "metadata": {
    "collapsed": false
   },
   "source": [
    "# Task\n",
    "Analyze an experiment where the guest is required to write a message that is at least 140 characters long to explain why he or she is interested is staying with the host. This is run as a 50-50 experiment (50% in treatment, 50% in control).  \n",
    "\n",
    "What happens to the experience of contacting and booking a place on Airbnb when the guest is required to write a message like this?\n",
    "\n",
    "What should we do with change, expand to all or cancel?\n",
    "\n",
    "How would you explain the results to someone who is not highly technical?\n",
    "\n",
    "# Summary\n",
    "Given this data, I would conclude that the experiment was implemented incorrectly and/or users were completely uninfluenced by the change. I saw no difference in the length of messages being sent, and no significant difference in either booking flow nor user behavior. I would recommend first double-checking that the test was implemented correctly. \n",
    "\n",
    "# Analysis\n",
    "I first checked to see if the experiment cells were indeed allocated 50/50, which they were. I then compared the distribution of message length between the treatment and control cells, and saw no difference. At the very least, I would expect to see that the population in the treatment cell sent close to 0 messages that were less than 140 characters, but instead the proportion of messages between the two cells were similar. \n",
    "\n",
    "For the sake of this exercise, I proceeded as if the change were implemented correctly. I narrowed my analysis to the inquiries that used the 'contact_me' channel, and compared the following user outcomes:\n",
    "\n",
    "* Difference in % inquries replied to (p-value of 28.2%, not significant)\n",
    "\n",
    "* Difference in % inquiries accepted (p-value of 69.8%, not significant)\n",
    "\n",
    "* Difference in % inquiries booked (p-value of 56.8%, not significant)\n",
    "\n",
    "(1)\n",
    "\n",
    "I then looked to see if the experiment had changed the following user behavior:\n",
    "\n",
    "* Difference in mean number inquiries per guest (p-value of 92.9%, not significant)\n",
    "(2) \n",
    "\n",
    "* Median response time to inquiry (p-value of 98.8%, not significant)\n",
    "(3)\n",
    "\n",
    "I saw no significant differences in any of these comparisons, leading me to believe that the test was not correctly implemented. \n",
    "\n",
    "(1) Using the Fisher exact test\n",
    "\n",
    "(2) Using Welch's t-test\n",
    "\n",
    "(3) Using Mood's median test\n",
    "\n",
    "\\*In general, when we compare a statistic (such as a percent of successes or a mean) between two populations, we also want an estimate of how often we would see a significant result, given that these populations were randomly chosen/assigned. We can estimate significance by computing how much these statistics would move by chance, and then computing what percentage of the time we would see the result we found. Low p-values (less than 5%) suggest that what we found is likely not the result of chance, and therefore meaningful. "
   ]
  },
  {
   "cell_type": "code",
   "execution_count": 98,
   "metadata": {
    "collapsed": true
   },
   "outputs": [],
   "source": [
    "import pandas as pd\n",
    "import matplotlib.pyplot as plt\n",
    "import numpy as np\n",
    "import seaborn as sns\n",
    "from scipy.stats import fisher_exact, ttest_ind, chi2_contingency, chisquare, median_test\n",
    "from IPython.display import display, HTML\n",
    "\n",
    "%matplotlib inline"
   ]
  },
  {
   "cell_type": "code",
   "execution_count": null,
   "metadata": {
    "collapsed": true
   },
   "outputs": [],
   "source": [
    "# Helper functions\n",
    "\n",
    "def plot_metric(data, metric_name):\n",
    "    control_idx = graph_data['cell'] == 'control'\n",
    "    treatment_idx = graph_data['cell'] == 'treatment'\n",
    "    control = graph_data[control_idx].set_index('month')\n",
    "    treatment = graph_data[treatment_idx].set_index('month')\n",
    "\n",
    "    x = np.arange(0, 12, 1)\n",
    "    fig, ax1 = plt.subplots()\n",
    "    fig.set_size_inches(12, 7)\n",
    "    ax1.fill_between(x, \n",
    "                     treatment[\"{}_05_rate\".format(metric_name)], \n",
    "                     treatment[\"{}_95_rate\".format(metric_name)],\n",
    "                     alpha=0.7,\n",
    "                     color=current_palette[0],\n",
    "                     label='treatment')\n",
    "    ax1.fill_between(x, \n",
    "                     control[\"{}_05_rate\".format(metric_name)], \n",
    "                     control[\"{}_95_rate\".format(metric_name)],\n",
    "                     alpha=0.7,\n",
    "                     color=current_palette[1],\n",
    "                     label='control')\n",
    "\n",
    "    plt.xticks(x, control.index, rotation=40)\n",
    "    ax1.set_xlim([0,11])\n",
    "    plt.title(metric_name)\n",
    "    plt.xlabel('Date')\n",
    "    plt.ylabel(' Cumulative rate')\n",
    "    plt.legend()\n",
    "    \n",
    "def bootstrap(dataframe, number_of_samples):\n",
    "    sample_stats = []\n",
    "    keys = ['ts_interaction_first', 'ts_reply_at_first', 'ts_accepted_at_first', 'ts_booking_at']\n",
    "    indexes = np.random.choice(dataframe.index, [number_of_samples, len(dataframe.index)], replace=True)\n",
    "    for i in indexes:\n",
    "        sample = dataframe.loc[i, :]\n",
    "        stats = {k:sample[k].count() for k in keys}\n",
    "        sample_stats.append(stats)\n",
    "    return pd.DataFrame.from_records(sample_stats)\n",
    "\n",
    "def get_conf_intervals(dataframe, label):\n",
    "    keys = ['ts_interaction_first', 'ts_reply_at_first', 'ts_accepted_at_first', 'ts_booking_at']\n",
    "    stats = {'cell': label}\n",
    "    for k in keys:\n",
    "        stats[\"{}_mean\".format(k)] = dataframe[k].mean()\n",
    "        stats[\"{}_05\".format(k)] = dataframe[k].quantile(0.05)\n",
    "        stats[\"{}_95\".format(k)] = dataframe[k].quantile(0.95)\n",
    "    return pd.DataFrame.from_records([stats])"
   ]
  },
  {
   "cell_type": "markdown",
   "metadata": {},
   "source": [
    "## Data"
   ]
  },
  {
   "cell_type": "code",
   "execution_count": 616,
   "metadata": {
    "collapsed": false
   },
   "outputs": [
    {
     "name": "stdout",
     "output_type": "stream",
     "text": [
      "(10000, 2)\n",
      "(10000, 9)\n",
      "(9104, 11)\n"
     ]
    }
   ],
   "source": [
    "# import\n",
    "assignments = pd.read_csv('Airbnb/takehome_assignments.csv')\n",
    "print assignments.shape\n",
    "contacts = pd.read_csv('Airbnb/takehome_contacts.csv')\n",
    "print contacts.shape\n",
    "\n",
    "# clean\n",
    "# take out users assigned to multiple groups\n",
    "assignments = assignments.groupby('id_user').filter(lambda x: x['ab'].nunique() == 1)\n",
    "# remove duplicate assignments\n",
    "assignments = assignments.groupby(['id_user', 'ab']).agg('count').reset_index()\n",
    "\n",
    "# merge\n",
    "data = contacts.merge(assignments, left_on='id_guest', right_on='id_user')\n",
    "print data.shape\n",
    "\n",
    "# transform\n",
    "data['ts_interaction_first'] = pd.to_datetime(data['ts_interaction_first'])\n",
    "data['ts_reply_at_first'] = pd.to_datetime(data['ts_reply_at_first'])\n",
    "data = pd.concat([data, pd.get_dummies(data['ab'])], axis=1)\n",
    "data['ts_interaction_first_month'] = data['ts_interaction_first'].apply(lambda x: '{}-{:02}'.format(x.year, x.month))\n",
    "\n",
    "# subsets\n",
    "all_data = data\n",
    "idx = data['dim_contact_channel'] == 'contact_me'\n",
    "contact_data = all_data[idx]"
   ]
  },
  {
   "cell_type": "markdown",
   "metadata": {},
   "source": [
    "## Data overview"
   ]
  },
  {
   "cell_type": "code",
   "execution_count": 259,
   "metadata": {
    "collapsed": false
   },
   "outputs": [
    {
     "data": {
      "text/html": [
       "<div>\n",
       "<table border=\"1\" class=\"dataframe\">\n",
       "  <thead>\n",
       "    <tr style=\"text-align: right;\">\n",
       "      <th>dim_contact_channel</th>\n",
       "      <th>book_it</th>\n",
       "      <th>contact_me</th>\n",
       "      <th>instant_booked</th>\n",
       "    </tr>\n",
       "    <tr>\n",
       "      <th>ts_interaction_first_month</th>\n",
       "      <th></th>\n",
       "      <th></th>\n",
       "      <th></th>\n",
       "    </tr>\n",
       "  </thead>\n",
       "  <tbody>\n",
       "    <tr>\n",
       "      <th>2013-01</th>\n",
       "      <td>83</td>\n",
       "      <td>450</td>\n",
       "      <td>1</td>\n",
       "    </tr>\n",
       "    <tr>\n",
       "      <th>2013-02</th>\n",
       "      <td>81</td>\n",
       "      <td>497</td>\n",
       "      <td>4</td>\n",
       "    </tr>\n",
       "    <tr>\n",
       "      <th>2013-03</th>\n",
       "      <td>95</td>\n",
       "      <td>670</td>\n",
       "      <td>1</td>\n",
       "    </tr>\n",
       "    <tr>\n",
       "      <th>2013-04</th>\n",
       "      <td>119</td>\n",
       "      <td>772</td>\n",
       "      <td>5</td>\n",
       "    </tr>\n",
       "    <tr>\n",
       "      <th>2013-05</th>\n",
       "      <td>136</td>\n",
       "      <td>840</td>\n",
       "      <td>0</td>\n",
       "    </tr>\n",
       "    <tr>\n",
       "      <th>2013-06</th>\n",
       "      <td>135</td>\n",
       "      <td>755</td>\n",
       "      <td>2</td>\n",
       "    </tr>\n",
       "    <tr>\n",
       "      <th>2013-07</th>\n",
       "      <td>207</td>\n",
       "      <td>755</td>\n",
       "      <td>3</td>\n",
       "    </tr>\n",
       "    <tr>\n",
       "      <th>2013-08</th>\n",
       "      <td>251</td>\n",
       "      <td>715</td>\n",
       "      <td>8</td>\n",
       "    </tr>\n",
       "    <tr>\n",
       "      <th>2013-09</th>\n",
       "      <td>228</td>\n",
       "      <td>585</td>\n",
       "      <td>2</td>\n",
       "    </tr>\n",
       "    <tr>\n",
       "      <th>2013-10</th>\n",
       "      <td>161</td>\n",
       "      <td>449</td>\n",
       "      <td>8</td>\n",
       "    </tr>\n",
       "    <tr>\n",
       "      <th>2013-11</th>\n",
       "      <td>138</td>\n",
       "      <td>395</td>\n",
       "      <td>3</td>\n",
       "    </tr>\n",
       "    <tr>\n",
       "      <th>2013-12</th>\n",
       "      <td>136</td>\n",
       "      <td>407</td>\n",
       "      <td>7</td>\n",
       "    </tr>\n",
       "  </tbody>\n",
       "</table>\n",
       "</div>"
      ],
      "text/plain": [
       "dim_contact_channel         book_it  contact_me  instant_booked\n",
       "ts_interaction_first_month                                     \n",
       "2013-01                          83         450               1\n",
       "2013-02                          81         497               4\n",
       "2013-03                          95         670               1\n",
       "2013-04                         119         772               5\n",
       "2013-05                         136         840               0\n",
       "2013-06                         135         755               2\n",
       "2013-07                         207         755               3\n",
       "2013-08                         251         715               8\n",
       "2013-09                         228         585               2\n",
       "2013-10                         161         449               8\n",
       "2013-11                         138         395               3\n",
       "2013-12                         136         407               7"
      ]
     },
     "execution_count": 259,
     "metadata": {},
     "output_type": "execute_result"
    }
   ],
   "source": [
    "# Guest attempts per channel\n",
    "pd.pivot_table(all_data, \n",
    "               values='id_guest', \n",
    "               index='ts_interaction_first_month', \n",
    "               columns='dim_contact_channel', \n",
    "               aggfunc='count').fillna(0)"
   ]
  },
  {
   "cell_type": "code",
   "execution_count": 538,
   "metadata": {
    "collapsed": false
   },
   "outputs": [
    {
     "data": {
      "text/html": [
       "<div>\n",
       "<table border=\"1\" class=\"dataframe\">\n",
       "  <thead>\n",
       "    <tr style=\"text-align: right;\">\n",
       "      <th></th>\n",
       "      <th>ts_reply_at_first</th>\n",
       "      <th>ts_accepted_at_first</th>\n",
       "      <th>ts_booking_at</th>\n",
       "      <th>id_guest</th>\n",
       "    </tr>\n",
       "    <tr>\n",
       "      <th>ts_interaction_first</th>\n",
       "      <th></th>\n",
       "      <th></th>\n",
       "      <th></th>\n",
       "      <th></th>\n",
       "    </tr>\n",
       "  </thead>\n",
       "  <tbody>\n",
       "    <tr>\n",
       "      <th>2013-01-31</th>\n",
       "      <td>476</td>\n",
       "      <td>204</td>\n",
       "      <td>130</td>\n",
       "      <td>534</td>\n",
       "    </tr>\n",
       "    <tr>\n",
       "      <th>2013-02-28</th>\n",
       "      <td>509</td>\n",
       "      <td>203</td>\n",
       "      <td>124</td>\n",
       "      <td>582</td>\n",
       "    </tr>\n",
       "    <tr>\n",
       "      <th>2013-03-31</th>\n",
       "      <td>678</td>\n",
       "      <td>262</td>\n",
       "      <td>178</td>\n",
       "      <td>766</td>\n",
       "    </tr>\n",
       "    <tr>\n",
       "      <th>2013-04-30</th>\n",
       "      <td>744</td>\n",
       "      <td>275</td>\n",
       "      <td>172</td>\n",
       "      <td>896</td>\n",
       "    </tr>\n",
       "    <tr>\n",
       "      <th>2013-05-31</th>\n",
       "      <td>811</td>\n",
       "      <td>289</td>\n",
       "      <td>191</td>\n",
       "      <td>976</td>\n",
       "    </tr>\n",
       "    <tr>\n",
       "      <th>2013-06-30</th>\n",
       "      <td>731</td>\n",
       "      <td>272</td>\n",
       "      <td>168</td>\n",
       "      <td>892</td>\n",
       "    </tr>\n",
       "    <tr>\n",
       "      <th>2013-07-31</th>\n",
       "      <td>815</td>\n",
       "      <td>322</td>\n",
       "      <td>213</td>\n",
       "      <td>965</td>\n",
       "    </tr>\n",
       "    <tr>\n",
       "      <th>2013-08-31</th>\n",
       "      <td>833</td>\n",
       "      <td>349</td>\n",
       "      <td>240</td>\n",
       "      <td>974</td>\n",
       "    </tr>\n",
       "    <tr>\n",
       "      <th>2013-09-30</th>\n",
       "      <td>717</td>\n",
       "      <td>297</td>\n",
       "      <td>199</td>\n",
       "      <td>815</td>\n",
       "    </tr>\n",
       "    <tr>\n",
       "      <th>2013-10-31</th>\n",
       "      <td>544</td>\n",
       "      <td>248</td>\n",
       "      <td>170</td>\n",
       "      <td>618</td>\n",
       "    </tr>\n",
       "    <tr>\n",
       "      <th>2013-11-30</th>\n",
       "      <td>492</td>\n",
       "      <td>220</td>\n",
       "      <td>140</td>\n",
       "      <td>536</td>\n",
       "    </tr>\n",
       "    <tr>\n",
       "      <th>2013-12-31</th>\n",
       "      <td>491</td>\n",
       "      <td>215</td>\n",
       "      <td>152</td>\n",
       "      <td>550</td>\n",
       "    </tr>\n",
       "  </tbody>\n",
       "</table>\n",
       "</div>"
      ],
      "text/plain": [
       "                      ts_reply_at_first  ts_accepted_at_first  ts_booking_at  \\\n",
       "ts_interaction_first                                                           \n",
       "2013-01-31                          476                   204            130   \n",
       "2013-02-28                          509                   203            124   \n",
       "2013-03-31                          678                   262            178   \n",
       "2013-04-30                          744                   275            172   \n",
       "2013-05-31                          811                   289            191   \n",
       "2013-06-30                          731                   272            168   \n",
       "2013-07-31                          815                   322            213   \n",
       "2013-08-31                          833                   349            240   \n",
       "2013-09-30                          717                   297            199   \n",
       "2013-10-31                          544                   248            170   \n",
       "2013-11-30                          492                   220            140   \n",
       "2013-12-31                          491                   215            152   \n",
       "\n",
       "                      id_guest  \n",
       "ts_interaction_first            \n",
       "2013-01-31                 534  \n",
       "2013-02-28                 582  \n",
       "2013-03-31                 766  \n",
       "2013-04-30                 896  \n",
       "2013-05-31                 976  \n",
       "2013-06-30                 892  \n",
       "2013-07-31                 965  \n",
       "2013-08-31                 974  \n",
       "2013-09-30                 815  \n",
       "2013-10-31                 618  \n",
       "2013-11-30                 536  \n",
       "2013-12-31                 550  "
      ]
     },
     "execution_count": 538,
     "metadata": {},
     "output_type": "execute_result"
    }
   ],
   "source": [
    "# Guest outcomes\n",
    "(all_data.set_index('ts_interaction_first')\n",
    "         .resample('M', {'id_guest':'count',\n",
    "                         'ts_reply_at_first':'count',\n",
    "                         'ts_accepted_at_first':'count',\n",
    "                         'ts_booking_at':'count'}))"
   ]
  },
  {
   "cell_type": "markdown",
   "metadata": {},
   "source": [
    "## Was the experiment done correctly?"
   ]
  },
  {
   "cell_type": "code",
   "execution_count": 596,
   "metadata": {
    "collapsed": false
   },
   "outputs": [
    {
     "data": {
      "text/html": [
       "<div>\n",
       "<table border=\"1\" class=\"dataframe\">\n",
       "  <thead>\n",
       "    <tr style=\"text-align: right;\">\n",
       "      <th></th>\n",
       "      <th>control</th>\n",
       "      <th>treatment</th>\n",
       "    </tr>\n",
       "    <tr>\n",
       "      <th>ts_interaction_first</th>\n",
       "      <th></th>\n",
       "      <th></th>\n",
       "    </tr>\n",
       "  </thead>\n",
       "  <tbody>\n",
       "    <tr>\n",
       "      <th>2013-01-31</th>\n",
       "      <td>285</td>\n",
       "      <td>249</td>\n",
       "    </tr>\n",
       "    <tr>\n",
       "      <th>2013-02-28</th>\n",
       "      <td>285</td>\n",
       "      <td>297</td>\n",
       "    </tr>\n",
       "    <tr>\n",
       "      <th>2013-03-31</th>\n",
       "      <td>366</td>\n",
       "      <td>400</td>\n",
       "    </tr>\n",
       "    <tr>\n",
       "      <th>2013-04-30</th>\n",
       "      <td>459</td>\n",
       "      <td>437</td>\n",
       "    </tr>\n",
       "    <tr>\n",
       "      <th>2013-05-31</th>\n",
       "      <td>476</td>\n",
       "      <td>500</td>\n",
       "    </tr>\n",
       "    <tr>\n",
       "      <th>2013-06-30</th>\n",
       "      <td>452</td>\n",
       "      <td>440</td>\n",
       "    </tr>\n",
       "    <tr>\n",
       "      <th>2013-07-31</th>\n",
       "      <td>490</td>\n",
       "      <td>475</td>\n",
       "    </tr>\n",
       "    <tr>\n",
       "      <th>2013-08-31</th>\n",
       "      <td>490</td>\n",
       "      <td>484</td>\n",
       "    </tr>\n",
       "    <tr>\n",
       "      <th>2013-09-30</th>\n",
       "      <td>391</td>\n",
       "      <td>424</td>\n",
       "    </tr>\n",
       "    <tr>\n",
       "      <th>2013-10-31</th>\n",
       "      <td>317</td>\n",
       "      <td>301</td>\n",
       "    </tr>\n",
       "    <tr>\n",
       "      <th>2013-11-30</th>\n",
       "      <td>274</td>\n",
       "      <td>262</td>\n",
       "    </tr>\n",
       "    <tr>\n",
       "      <th>2013-12-31</th>\n",
       "      <td>265</td>\n",
       "      <td>285</td>\n",
       "    </tr>\n",
       "  </tbody>\n",
       "</table>\n",
       "</div>"
      ],
      "text/plain": [
       "                      control  treatment\n",
       "ts_interaction_first                    \n",
       "2013-01-31                285        249\n",
       "2013-02-28                285        297\n",
       "2013-03-31                366        400\n",
       "2013-04-30                459        437\n",
       "2013-05-31                476        500\n",
       "2013-06-30                452        440\n",
       "2013-07-31                490        475\n",
       "2013-08-31                490        484\n",
       "2013-09-30                391        424\n",
       "2013-10-31                317        301\n",
       "2013-11-30                274        262\n",
       "2013-12-31                265        285"
      ]
     },
     "metadata": {},
     "output_type": "display_data"
    },
    {
     "name": "stdout",
     "output_type": "stream",
     "text": [
      "With a p-value of 66.9%, the experiment allocations are not significantly skewed\n"
     ]
    }
   ],
   "source": [
    "# Were the control/treatment allocations skewed in any way? \n",
    "\n",
    "how = {'control':'sum', 'treatment':'sum'}\n",
    "monthly = all_data.set_index('ts_interaction_first').resample('M', how=how)\n",
    "display(monthly)\n",
    "chi2, p, dof, expected = chi2_contingency(monthly)\n",
    "print \"With a p-value of {:.1f}%, the experiment allocations are not significantly skewed\".format(p * 100)"
   ]
  },
  {
   "cell_type": "code",
   "execution_count": 593,
   "metadata": {
    "collapsed": false
   },
   "outputs": [
    {
     "data": {
      "text/html": [
       "<div>\n",
       "<table border=\"1\" class=\"dataframe\">\n",
       "  <thead>\n",
       "    <tr style=\"text-align: right;\">\n",
       "      <th></th>\n",
       "      <th>ab</th>\n",
       "      <th>id_listing</th>\n",
       "      <th>m_first_message_length</th>\n",
       "    </tr>\n",
       "  </thead>\n",
       "  <tbody>\n",
       "    <tr>\n",
       "      <th>0</th>\n",
       "      <td>control</td>\n",
       "      <td>3648</td>\n",
       "      <td>289</td>\n",
       "    </tr>\n",
       "    <tr>\n",
       "      <th>1</th>\n",
       "      <td>treatment</td>\n",
       "      <td>3642</td>\n",
       "      <td>287</td>\n",
       "    </tr>\n",
       "  </tbody>\n",
       "</table>\n",
       "</div>"
      ],
      "text/plain": [
       "          ab  id_listing  m_first_message_length\n",
       "0    control        3648                     289\n",
       "1  treatment        3642                     287"
      ]
     },
     "metadata": {},
     "output_type": "display_data"
    },
    {
     "name": "stdout",
     "output_type": "stream",
     "text": [
      "I would expect the treatment group to have a lower median message length.\n"
     ]
    }
   ],
   "source": [
    "display(contact_data.groupby('ab', as_index=False).agg({'id_listing':'count', 'm_first_message_length':'median'}))\n",
    "print \"I would expect the treatment group to have a lower median message length.\""
   ]
  },
  {
   "cell_type": "code",
   "execution_count": 551,
   "metadata": {
    "collapsed": false
   },
   "outputs": [
    {
     "name": "stdout",
     "output_type": "stream",
     "text": [
      "There are still users in the treatment group sending messages < 140 characters.\n",
      "The test does not appear to be implemented correctly.\n",
      "However, for this exercise I will proceed as if it were.\n"
     ]
    },
    {
     "data": {
      "image/png": "[encoded data removed]",
      "text/plain": [
       "<matplotlib.figure.Figure at 0x126275b90>"
      ]
     },
     "metadata": {},
     "output_type": "display_data"
    }
   ],
   "source": [
    "# What happened to message length? \n",
    "# Expect to see no first messages < 140\n",
    "\n",
    "control_idx = contact_data['ab'] == 'control'\n",
    "treatment_idx = contact_data['ab'] == 'treatment'\n",
    "bins = [0,100,200,300,400,500,600,700,800,900,1000]\n",
    "plt.hist(contact_data.loc[treatment_idx, 'm_first_message_length'], bins=bins, alpha=0.5, normed=1, label='treatment')\n",
    "plt.hist(contact_data.loc[control_idx, 'm_first_message_length'], bins=bins, alpha=0.5, normed=1, label='control')\n",
    "plt.legend()\n",
    "print \"There are still users in the treatment group sending messages < 140 characters.\"\n",
    "print \"The test does not appear to be implemented correctly.\"\n",
    "print \"However, for this exercise I will proceed as if it were.\""
   ]
  },
  {
   "cell_type": "code",
   "execution_count": 598,
   "metadata": {
    "collapsed": false
   },
   "outputs": [
    {
     "name": "stderr",
     "output_type": "stream",
     "text": [
      "/Users/agtsai/anaconda/envs/yewno/lib/python2.7/site-packages/ipykernel/__main__.py:1: SettingWithCopyWarning: \n",
      "A value is trying to be set on a copy of a slice from a DataFrame.\n",
      "Try using .loc[row_indexer,col_indexer] = value instead\n",
      "\n",
      "See the caveats in the documentation: http://pandas.pydata.org/pandas-docs/stable/indexing.html#indexing-view-versus-copy\n",
      "  if __name__ == '__main__':\n",
      "/Users/agtsai/anaconda/envs/yewno/lib/python2.7/site-packages/ipykernel/__main__.py:2: SettingWithCopyWarning: \n",
      "A value is trying to be set on a copy of a slice from a DataFrame.\n",
      "Try using .loc[row_indexer,col_indexer] = value instead\n",
      "\n",
      "See the caveats in the documentation: http://pandas.pydata.org/pandas-docs/stable/indexing.html#indexing-view-versus-copy\n",
      "  from ipykernel import kernelapp as app\n"
     ]
    },
    {
     "data": {
      "text/html": [
       "<div>\n",
       "<table border=\"1\" class=\"dataframe\">\n",
       "  <thead>\n",
       "    <tr style=\"text-align: right;\">\n",
       "      <th></th>\n",
       "      <th>id_listing</th>\n",
       "      <th>message_bt_140_300</th>\n",
       "      <th>message_lt_140</th>\n",
       "      <th>message_lt_140_pct</th>\n",
       "      <th>message_bt_140_300_pct</th>\n",
       "    </tr>\n",
       "    <tr>\n",
       "      <th>ab</th>\n",
       "      <th></th>\n",
       "      <th></th>\n",
       "      <th></th>\n",
       "      <th></th>\n",
       "      <th></th>\n",
       "    </tr>\n",
       "  </thead>\n",
       "  <tbody>\n",
       "    <tr>\n",
       "      <th>control</th>\n",
       "      <td>3648</td>\n",
       "      <td>1355</td>\n",
       "      <td>542</td>\n",
       "      <td>0.148575</td>\n",
       "      <td>0.371436</td>\n",
       "    </tr>\n",
       "    <tr>\n",
       "      <th>treatment</th>\n",
       "      <td>3642</td>\n",
       "      <td>1435</td>\n",
       "      <td>494</td>\n",
       "      <td>0.135640</td>\n",
       "      <td>0.394014</td>\n",
       "    </tr>\n",
       "  </tbody>\n",
       "</table>\n",
       "</div>"
      ],
      "text/plain": [
       "           id_listing  message_bt_140_300  message_lt_140  message_lt_140_pct  \\\n",
       "ab                                                                              \n",
       "control          3648                1355             542            0.148575   \n",
       "treatment        3642                1435             494            0.135640   \n",
       "\n",
       "           message_bt_140_300_pct  \n",
       "ab                                 \n",
       "control                  0.371436  \n",
       "treatment                0.394014  "
      ]
     },
     "metadata": {},
     "output_type": "display_data"
    },
    {
     "name": "stdout",
     "output_type": "stream",
     "text": [
      "Oftentimes hard limits are reflected in user behavior\n",
      "(ie, a large spike in activity right above the hard limit of 140 char)\n",
      "but not so here.\n"
     ]
    }
   ],
   "source": [
    "contact_data['message_lt_140'] = np.nan\n",
    "contact_data['message_bt_140_300'] = np.nan\n",
    "idx = contact_data['m_first_message_length'] < 140\n",
    "contact_data.loc[idx, 'message_lt_140'] = 1\n",
    "idx = (contact_data['m_first_message_length'] >= 140) & (contact_data['m_first_message_length'] < 300)\n",
    "contact_data.loc[idx, 'message_bt_140_300'] = 1\n",
    "stats = contact_data.groupby('ab').agg({'message_lt_140':'sum',\n",
    "                                'message_bt_140_300': 'sum',\n",
    "                                'id_listing':'count'})\n",
    "stats['message_lt_140_pct'] = stats['message_lt_140'] / stats['id_listing']\n",
    "stats['message_bt_140_300_pct'] = stats['message_bt_140_300'] / stats['id_listing']\n",
    "display(stats)\n",
    "print \"Oftentimes hard limits are reflected in user behavior\"\n",
    "print \"(ie, a large spike in activity right above the hard limit of 140 char)\"\n",
    "print \"but not so here.\""
   ]
  },
  {
   "cell_type": "markdown",
   "metadata": {},
   "source": [
    "## Experiment Outcome"
   ]
  },
  {
   "cell_type": "markdown",
   "metadata": {},
   "source": [
    "### How did users do in the booking flow?"
   ]
  },
  {
   "cell_type": "code",
   "execution_count": 591,
   "metadata": {
    "collapsed": false,
    "scrolled": true
   },
   "outputs": [
    {
     "data": {
      "text/html": [
       "<div>\n",
       "<table border=\"1\" class=\"dataframe\">\n",
       "  <thead>\n",
       "    <tr style=\"text-align: right;\">\n",
       "      <th></th>\n",
       "      <th>id_guest</th>\n",
       "      <th>ts_interaction_first</th>\n",
       "      <th>ts_reply_at_first</th>\n",
       "      <th>ts_accepted_at_first</th>\n",
       "      <th>ts_booking_at</th>\n",
       "    </tr>\n",
       "    <tr>\n",
       "      <th>ab</th>\n",
       "      <th></th>\n",
       "      <th></th>\n",
       "      <th></th>\n",
       "      <th></th>\n",
       "      <th></th>\n",
       "    </tr>\n",
       "  </thead>\n",
       "  <tbody>\n",
       "    <tr>\n",
       "      <th>control</th>\n",
       "      <td>3648</td>\n",
       "      <td>3648</td>\n",
       "      <td>3076</td>\n",
       "      <td>1059</td>\n",
       "      <td>507</td>\n",
       "    </tr>\n",
       "    <tr>\n",
       "      <th>treatment</th>\n",
       "      <td>3642</td>\n",
       "      <td>3642</td>\n",
       "      <td>3104</td>\n",
       "      <td>1042</td>\n",
       "      <td>524</td>\n",
       "    </tr>\n",
       "  </tbody>\n",
       "</table>\n",
       "</div>"
      ],
      "text/plain": [
       "           id_guest  ts_interaction_first  ts_reply_at_first  \\\n",
       "ab                                                             \n",
       "control        3648                  3648               3076   \n",
       "treatment      3642                  3642               3104   \n",
       "\n",
       "           ts_accepted_at_first  ts_booking_at  \n",
       "ab                                              \n",
       "control                    1059            507  \n",
       "treatment                  1042            524  "
      ]
     },
     "metadata": {},
     "output_type": "display_data"
    },
    {
     "name": "stdout",
     "output_type": "stream",
     "text": [
      "p-value for ts_reply_at_first: 28.2%\n",
      "p-value for ts_accepted_at_first: 69.8%\n",
      "p-value for ts_booking_at: 56.8%\n",
      "---\n",
      "Using the Fisher exact test to compare the control and independent cells,\n",
      "none of the steps in the booking flow show a statistically significant difference.\n"
     ]
    }
   ],
   "source": [
    "# current status with all data\n",
    "pipeline = contact_data.groupby('ab').agg({'id_guest': 'count', \n",
    "                        'ts_interaction_first':'count',\n",
    "                        'ts_reply_at_first':'count',\n",
    "                        'ts_booking_at':'count',\n",
    "                        'ts_accepted_at_first':'count'})\n",
    "\n",
    "pipeline = pipeline[['id_guest', 'ts_interaction_first', 'ts_reply_at_first', 'ts_accepted_at_first', 'ts_booking_at']]\n",
    "display(pipeline)\n",
    "\n",
    "keys = ['ts_reply_at_first', 'ts_accepted_at_first', 'ts_booking_at']\n",
    "for k in keys:\n",
    "    complement = pipeline['id_guest'] - pipeline[k]\n",
    "    contingency_table = pd.concat([pipeline[k], complement], axis=1)\n",
    "    odds_ratio, p_value = fisher_exact(contingency_table)\n",
    "    print \"p-value for {}: {:.1f}%\".format(k, p_value * 100)\n",
    "    \n",
    "print \"---\"\n",
    "print \"Using the Fisher exact test to compare the control and independent cells,\"\n",
    "print \"none of the steps in the booking flow show a statistically significant difference.\""
   ]
  },
  {
   "cell_type": "markdown",
   "metadata": {},
   "source": [
    "### Test power"
   ]
  },
  {
   "cell_type": "code",
   "execution_count": 584,
   "metadata": {
    "collapsed": false
   },
   "outputs": [
    {
     "name": "stdout",
     "output_type": "stream",
     "text": [
      "For reference, we have collected enough samples to detect a \n",
      "\t1.1%+ change in ts_reply_at_first\n",
      "\t4.4%+ change in ts_accepted_at_first\n",
      "\t7.1%+ change in ts_booking_at\n",
      "with 95% confidence, if that difference existed.\n"
     ]
    }
   ],
   "source": [
    "NUMBER_OF_SAMPLES=1000\n",
    "\n",
    "# flatten to unique guests, as some have multiple booking attempts\n",
    "unique_guests = contact_data.groupby('id_guest', as_index=False).agg({'ts_interaction_first':'count',\n",
    "                                                                      'ts_reply_at_first':'count',\n",
    "                                                                      'ts_accepted_at_first':'count',\n",
    "                                                                      'ts_booking_at':'count'})\n",
    "\n",
    "# Bootstrap these people\n",
    "control_idx = contact_data['ab'] == 'control'\n",
    "treatment_idx = contact_data['ab'] == 'treatment'\n",
    "control_bootstrap = bootstrap(contact_data[control_idx].reset_index(drop=True), number_of_samples=NUMBER_OF_SAMPLES)\n",
    "treatment_bootstrap = bootstrap(contact_data[treatment_idx].reset_index(drop=True), number_of_samples=NUMBER_OF_SAMPLES)\n",
    "control_sample_stats = get_conf_intervals(control_bootstrap, label='control')\n",
    "treatment_sample_stats = get_conf_intervals(treatment_bootstrap, label='treatment')\n",
    "ci = pd.concat([control_sample_stats, treatment_sample_stats], axis=0).set_index('cell')\n",
    "\n",
    "print \"For reference, we have collected enough samples to detect a \"\n",
    "keys = ['ts_reply_at_first', 'ts_accepted_at_first', 'ts_booking_at']\n",
    "for k in keys:\n",
    "    effect_size = ci.loc['treatment', '{}_95'.format(k)] - ci.loc['treatment', '{}_mean'.format(k)]\n",
    "    print \"\\t{:.1f}%+ change in {}\".format(effect_size / ci.loc['control', '{}_mean'.format(k)] * 100, k)\n",
    "print \"with 95% confidence, if that difference existed.\""
   ]
  },
  {
   "cell_type": "markdown",
   "metadata": {},
   "source": [
    "### Booking ratios over time\n",
    "\n",
    "For fun, here are some graphs!\n",
    "\n",
    "Each graph shows the 95% confidence interval of the cumulative percentage of the given metric up through a given month. For example, the March value for \"ts_reply_at_first\" is for all data up to and including March. The benefit of a cumulative percentage is that it can give a sense of when a test will converge (if ever), due to the increased samples narrowing the confidence band. "
   ]
  },
  {
   "cell_type": "code",
   "execution_count": 585,
   "metadata": {
    "collapsed": true
   },
   "outputs": [],
   "source": [
    "NUMBER_OF_SAMPLES=500\n",
    "\n",
    "monthly_data = []\n",
    "for month in contact_data['ts_interaction_first_month'].unique():\n",
    "    idx = contact_data['ts_interaction_first_month'] <= month\n",
    "    data = contact_data[idx].reset_index(drop=True)\n",
    "    monthly_data.append(data)\n",
    "\n",
    "monthly_stats = []\n",
    "for monthly in monthly_data:\n",
    "    # split into control and treatment\n",
    "    control_idx = monthly['ab'] == 'control'\n",
    "    treatment_idx = monthly['ab'] == 'treatment'\n",
    "    \n",
    "    # bootstrap\n",
    "    control_bootstrap = bootstrap(monthly[control_idx].reset_index(drop=True), number_of_samples=NUMBER_OF_SAMPLES)\n",
    "    treatment_bootstrap = bootstrap(monthly[treatment_idx].reset_index(drop=True), number_of_samples=NUMBER_OF_SAMPLES)\n",
    "    \n",
    "    control_sample_stats = get_conf_intervals(control_bootstrap, label='control')\n",
    "    treatment_sample_stats = get_conf_intervals(treatment_bootstrap, label='treatment')\n",
    "    \n",
    "    ci = pd.concat([control_sample_stats, treatment_sample_stats], axis=0).reset_index(drop=True)\n",
    "    ci['month'] = monthly['ts_interaction_first_month'].max()\n",
    "    monthly_stats.append(ci)\n",
    "    \n",
    "graph_data = pd.concat(monthly_stats, axis=0).sort_values(by='month', ascending=True)\n",
    "base = ['ts_reply_at_first', 'ts_accepted_at_first', 'ts_booking_at']\n",
    "bounds = ['05', 'mean', '95']\n",
    "keys = [\"{}_{}\".format(i, j) for i in base for j in bounds]\n",
    "for k in keys:\n",
    "    graph_data[\"{}_rate\".format(k)] = graph_data[k] / graph_data['ts_interaction_first_mean'] "
   ]
  },
  {
   "cell_type": "code",
   "execution_count": 587,
   "metadata": {
    "collapsed": false
   },
   "outputs": [
    {
     "data": {
      "image/png": "[encoded data removed]",
      "text/plain": [
       "<matplotlib.figure.Figure at 0x11f6a1cd0>"
      ]
     },
     "metadata": {},
     "output_type": "display_data"
    }
   ],
   "source": [
    "plot_metric(graph_data, 'ts_reply_at_first')"
   ]
  },
  {
   "cell_type": "code",
   "execution_count": 588,
   "metadata": {
    "collapsed": false
   },
   "outputs": [
    {
     "data": {
      "image/png": "[encoded data removed]",
      "text/plain": [
       "<matplotlib.figure.Figure at 0x1196430d0>"
      ]
     },
     "metadata": {},
     "output_type": "display_data"
    }
   ],
   "source": [
    "plot_metric(graph_data, 'ts_accepted_at_first')"
   ]
  },
  {
   "cell_type": "code",
   "execution_count": 589,
   "metadata": {
    "collapsed": false
   },
   "outputs": [
    {
     "data": {
      "image/png": "[encoded data removed]",
      "text/plain": [
       "<matplotlib.figure.Figure at 0x1249b5050>"
      ]
     },
     "metadata": {},
     "output_type": "display_data"
    }
   ],
   "source": [
    "plot_metric(graph_data, 'ts_booking_at')"
   ]
  },
  {
   "cell_type": "markdown",
   "metadata": {},
   "source": [
    "### Did user behavior change?"
   ]
  },
  {
   "cell_type": "code",
   "execution_count": 719,
   "metadata": {
    "collapsed": false
   },
   "outputs": [
    {
     "name": "stdout",
     "output_type": "stream",
     "text": [
      "Did guests reach out to fewer listings because of the message requirement?\n",
      "Mean control contacts: 1.0513\n",
      "Mean treatment contacts: 1.0508\n",
      "Difference: 0.00\n",
      "No. This difference has a p-value of 92.9%\n"
     ]
    }
   ],
   "source": [
    "# Welch's t-test\n",
    "\n",
    "print \"Did guests reach out to fewer listings because of the message requirement?\"\n",
    "user_attempts = contact_data.groupby(['id_guest', 'ab'], as_index=False).agg({'id_listing':'nunique'})\n",
    "attempt_stats = user_attempts.groupby('ab').agg({'id_listing':'mean'})\n",
    "control_mean = attempt_stats.loc['control', 'id_listing']\n",
    "treatment_mean = attempt_stats.loc['treatment', 'id_listing']\n",
    "print \"Mean control contacts: {:.4f}\".format(control_mean)\n",
    "print \"Mean treatment contacts: {:.4f}\".format(treatment_mean)\n",
    "print \"Difference: {:.2f}\".format(control_mean - treatment_mean)\n",
    "\n",
    "control_idx = user_attempts['ab'] == 'control'\n",
    "treatment_idx = user_attempts['ab'] == 'treatment'\n",
    "statistic, p_value = ttest_ind(user_attempts.loc[control_idx, 'id_listing'],\n",
    "          user_attempts.loc[treatment_idx, 'id_listing'],\n",
    "          equal_var=False)\n",
    "print \"No. This difference has a p-value of {:.1f}%\".format(p_value * 100)"
   ]
  },
  {
   "cell_type": "code",
   "execution_count": 704,
   "metadata": {
    "collapsed": false
   },
   "outputs": [
    {
     "name": "stdout",
     "output_type": "stream",
     "text": [
      "Did response time change because of the new requirement?\n",
      "Median control response time (seconds): 15744.000000\n",
      "Median treatment response time (seconds): 15688.500000\n",
      "The treatment response rate is 55.5 seconds faster (0.18)%.\n",
      "Not a significant difference (98.0%)\n"
     ]
    },
    {
     "name": "stderr",
     "output_type": "stream",
     "text": [
      "/Users/agtsai/anaconda/envs/yewno/lib/python2.7/site-packages/ipykernel/__main__.py:2: SettingWithCopyWarning: \n",
      "A value is trying to be set on a copy of a slice from a DataFrame.\n",
      "Try using .loc[row_indexer,col_indexer] = value instead\n",
      "\n",
      "See the caveats in the documentation: http://pandas.pydata.org/pandas-docs/stable/indexing.html#indexing-view-versus-copy\n",
      "  from ipykernel import kernelapp as app\n"
     ]
    }
   ],
   "source": [
    "# Mood's median test\n",
    "\n",
    "print \"Did response time change because of the new requirement?\"\n",
    "contact_data['response_time'] = (contact_data['ts_reply_at_first'] - contact_data['ts_interaction_first']) / np.timedelta64(1, 's')\n",
    "response_rates = contact_data.groupby('ab').agg({'response_time':'median'})\n",
    "control_response_time = response_rates.loc['control', 'response_time']\n",
    "treatment_response_time = response_rates.loc['treatment', 'response_time']\n",
    "diff = control_response_time - treatment_response_time\n",
    "print \"Median control response time (seconds): {:2f}\".format(control_response_time)\n",
    "print \"Median treatment response time (seconds): {:2f}\".format(treatment_response_time)\n",
    "print \"The treatment response rate is {} seconds faster ({:.2f})%.\".format(diff, diff / (control_response_time + treatment_response_time) * 100)\n",
    "\n",
    "response_idx = contact_data['response_time'].notnull()\n",
    "control_idx = (contact_data['ab'] == 'control') & response_idx\n",
    "treatment_idx = (contact_data['ab'] == 'treatment') & response_idx\n",
    "statistic, p_value, m, table = median_test(contact_data.loc[control_idx, 'response_time'],\n",
    "          contact_data.loc[treatment_idx, 'response_time'])\n",
    "print \"Not a significant difference ({:.1f}%)\".format(p_value * 100)"
   ]
  }
 ],
 "metadata": {
  "kernelspec": {
   "display_name": "Python 2",
   "language": "python",
   "name": "python2"
  },
  "language_info": {
   "codemirror_mode": {
    "name": "ipython",
    "version": 2
   },
   "file_extension": ".py",
   "mimetype": "text/x-python",
   "name": "python",
   "nbconvert_exporter": "python",
   "pygments_lexer": "ipython2",
   "version": "2.7.11"
  }
 },
 "nbformat": 4,
 "nbformat_minor": 0
}
